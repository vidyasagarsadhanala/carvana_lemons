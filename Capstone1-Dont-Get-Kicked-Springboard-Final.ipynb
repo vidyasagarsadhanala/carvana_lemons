{
 "cells": [
  {
   "cell_type": "markdown",
   "metadata": {},
   "source": [
    "## Capstone 1 - Machine Learning – Predicting Lemon titles (Kicks) in Car Auctions\n",
    "#### Objective:\n",
    "> To predict if the car purchased at the auction is a good/bad buy among thousands of cars purchased through online auctions. The goal is to create a machine learning model to predict the condition of the vehicle being purchased at a car auction, if it is a good/bad buy, hence reducing the risk.  \n",
    "\n",
    "#### Problem:\n",
    "> Predict if the car being purchased at auction is Good or Bad buy?\n",
    "\n",
    "#### Outcome:\n",
    ">One of the challenges for an auto dealership in purchasing a used car at an auction is the risk of that vehicle might have serious issues that prevent it from being resold. These are referred to as “kicks” or unfortunate purchases and are often resulting in a significant loss. Some examples of kicks could be tampered odometers, mechanical issues the dealer is not able to address, issues with getting the vehicle title from the seller or some unforeseen problem. Using machine learning to predict which cars have higher risk can provide real value to dealerships as they can predict kicks before the dealership buys at auctions.\n",
    "\n",
    "#### Dataset:\n",
    ">Source: https://www.kaggle.com/c/DontGetKicked/data\n",
    "\n",
    ">Train set – 60%<br>\n",
    ">Test set – 40%\n",
    "\n",
    ">The data set contains information about each car, like purchase price, make and model, trim level, odometer reading, date of purchase, state of origin and so on. There are about 40 different variables (along with the lemon status indicator IsBadBuy) on around 72K cars, the test data set has the same information on around 40K cars. The target variable is “IsBadBuy” which is a binary variable and is a post-purchase classification for kicked on non-kicked cars.\n",
    "\n",
    "#### Evaluation Metrics:\n",
    ">The evaluation metrics for this problem are going to be the Gini Index, Classification Accuracy %, F1 Score, Precision, Recall, and Log Loss metrics."
   ]
  },
  {
   "cell_type": "code",
   "execution_count": 2,
   "metadata": {},
   "outputs": [
    {
     "name": "stderr",
     "output_type": "stream",
     "text": [
      "Using TensorFlow backend.\n"
     ]
    }
   ],
   "source": [
    "## Import required packages\n",
    "import pandas as pd\n",
    "import numpy as np\n",
    "import matplotlib.pyplot as plt\n",
    "import seaborn as sns\n",
    "import pandas_profiling\n",
    "from fancyimpute import KNN\n",
    "from sklearn.preprocessing import OrdinalEncoder"
   ]
  },
  {
   "cell_type": "code",
   "execution_count": 3,
   "metadata": {},
   "outputs": [
    {
     "data": {
      "text/plain": [
       "'C:\\\\Users\\\\datawiz\\\\Documents\\\\Springboard\\\\DataWrangling'"
      ]
     },
     "execution_count": 3,
     "metadata": {},
     "output_type": "execute_result"
    }
   ],
   "source": [
    "pwd"
   ]
  },
  {
   "cell_type": "code",
   "execution_count": 96,
   "metadata": {},
   "outputs": [],
   "source": [
    "# Input training data\n",
    "git_path = 'https://raw.githubusercontent.com/vidyasagarsadhanala/carvana_lemons/master/data/training.csv'\n",
    "df = pd.read_csv(git_path)"
   ]
  },
  {
   "cell_type": "code",
   "execution_count": 97,
   "metadata": {},
   "outputs": [
    {
     "name": "stdout",
     "output_type": "stream",
     "text": [
      "<class 'pandas.core.frame.DataFrame'>\n",
      "RangeIndex: 72983 entries, 0 to 72982\n",
      "Data columns (total 34 columns):\n",
      "RefId                                72983 non-null int64\n",
      "IsBadBuy                             72983 non-null int64\n",
      "PurchDate                            72983 non-null object\n",
      "Auction                              72983 non-null object\n",
      "VehYear                              72983 non-null int64\n",
      "VehicleAge                           72983 non-null int64\n",
      "Make                                 72983 non-null object\n",
      "Model                                72983 non-null object\n",
      "Trim                                 70623 non-null object\n",
      "SubModel                             72975 non-null object\n",
      "Color                                72975 non-null object\n",
      "Transmission                         72974 non-null object\n",
      "WheelTypeID                          69814 non-null float64\n",
      "WheelType                            69809 non-null object\n",
      "VehOdo                               72983 non-null int64\n",
      "Nationality                          72978 non-null object\n",
      "Size                                 72978 non-null object\n",
      "TopThreeAmericanName                 72978 non-null object\n",
      "MMRAcquisitionAuctionAveragePrice    72965 non-null float64\n",
      "MMRAcquisitionAuctionCleanPrice      72965 non-null float64\n",
      "MMRAcquisitionRetailAveragePrice     72965 non-null float64\n",
      "MMRAcquisitonRetailCleanPrice        72965 non-null float64\n",
      "MMRCurrentAuctionAveragePrice        72668 non-null float64\n",
      "MMRCurrentAuctionCleanPrice          72668 non-null float64\n",
      "MMRCurrentRetailAveragePrice         72668 non-null float64\n",
      "MMRCurrentRetailCleanPrice           72668 non-null float64\n",
      "PRIMEUNIT                            3419 non-null object\n",
      "AUCGUART                             3419 non-null object\n",
      "BYRNO                                72983 non-null int64\n",
      "VNZIP1                               72983 non-null int64\n",
      "VNST                                 72983 non-null object\n",
      "VehBCost                             72983 non-null float64\n",
      "IsOnlineSale                         72983 non-null int64\n",
      "WarrantyCost                         72983 non-null int64\n",
      "dtypes: float64(10), int64(9), object(15)\n",
      "memory usage: 18.9+ MB\n"
     ]
    }
   ],
   "source": [
    "df.head()\n",
    "df.info()"
   ]
  },
  {
   "cell_type": "code",
   "execution_count": 98,
   "metadata": {},
   "outputs": [
    {
     "name": "stdout",
     "output_type": "stream",
     "text": [
      "Index(['RefId', 'IsBadBuy', 'PurchDate', 'Auction', 'VehYear', 'VehicleAge',\n",
      "       'Make', 'Model', 'Trim', 'SubModel', 'Color', 'Transmission',\n",
      "       'WheelTypeID', 'WheelType', 'VehOdo', 'Nationality', 'Size',\n",
      "       'TopThreeAmericanName', 'MMRAcquisitionAuctionAveragePrice',\n",
      "       'MMRAcquisitionAuctionCleanPrice', 'MMRAcquisitionRetailAveragePrice',\n",
      "       'MMRAcquisitonRetailCleanPrice', 'MMRCurrentAuctionAveragePrice',\n",
      "       'MMRCurrentAuctionCleanPrice', 'MMRCurrentRetailAveragePrice',\n",
      "       'MMRCurrentRetailCleanPrice', 'PRIMEUNIT', 'AUCGUART', 'BYRNO',\n",
      "       'VNZIP1', 'VNST', 'VehBCost', 'IsOnlineSale', 'WarrantyCost'],\n",
      "      dtype='object')\n"
     ]
    }
   ],
   "source": [
    "print(df.columns)"
   ]
  },
  {
   "cell_type": "code",
   "execution_count": 99,
   "metadata": {},
   "outputs": [
    {
     "data": {
      "text/plain": [
       "0    64007\n",
       "1     8976\n",
       "Name: IsBadBuy, dtype: int64"
      ]
     },
     "execution_count": 99,
     "metadata": {},
     "output_type": "execute_result"
    }
   ],
   "source": [
    "df['IsBadBuy'].value_counts()"
   ]
  },
  {
   "cell_type": "code",
   "execution_count": 100,
   "metadata": {},
   "outputs": [
    {
     "data": {
      "text/plain": [
       "Make\n",
       "MAZDA             979\n",
       "DODGE           12912\n",
       "FORD            11305\n",
       "MITSUBISHI       1030\n",
       "KIA              2484\n",
       "GMC               649\n",
       "NISSAN           2085\n",
       "CHEVROLET       17248\n",
       "SATURN           2163\n",
       "CHRYSLER         8844\n",
       "MERCURY           913\n",
       "HYUNDAI          1811\n",
       "TOYOTA           1144\n",
       "PONTIAC          4258\n",
       "SUZUKI           1328\n",
       "JEEP             1644\n",
       "HONDA             497\n",
       "OLDSMOBILE        243\n",
       "BUICK             720\n",
       "SCION             129\n",
       "VOLKSWAGEN        134\n",
       "ISUZU             134\n",
       "LINCOLN            97\n",
       "MINI               24\n",
       "SUBARU             28\n",
       "CADILLAC           33\n",
       "VOLVO              37\n",
       "INFINITI           42\n",
       "PLYMOUTH            2\n",
       "LEXUS              31\n",
       "ACURA              33\n",
       "TOYOTA SCION        1\n",
       "HUMMER              1\n",
       "Name: IsBadBuy, dtype: int64"
      ]
     },
     "execution_count": 100,
     "metadata": {},
     "output_type": "execute_result"
    }
   ],
   "source": [
    "df.groupby(['Make'],sort=False)['IsBadBuy'].count()"
   ]
  },
  {
   "cell_type": "code",
   "execution_count": 101,
   "metadata": {},
   "outputs": [
    {
     "data": {
      "image/png": "[encoded data removed]",
      "text/plain": [
       "<Figure size 1080x1080 with 20 Axes>"
      ]
     },
     "metadata": {
      "needs_background": "light"
     },
     "output_type": "display_data"
    }
   ],
   "source": [
    "pd.DataFrame.hist(df, figsize= [15,15]);"
   ]
  },
  {
   "cell_type": "markdown",
   "metadata": {},
   "source": [
    "##### Drop columns:\n",
    "1. Ref ID\n",
    "2. BYRNO\n",
    "3. WheelTypeID\n",
    "\n",
    "##### Numerical Columns:\n",
    "1.  VehYear\n",
    "2.  VehcileAge\n",
    "3.  WarrantyCost\n",
    "4.  VehOdo\n",
    "5.  VehBCost\n",
    "6.  VNZIP1\n",
    "7.  MMRAcquisitionAuctionAveragePrice\n",
    "8.  MMRAcquisitionAuctionCleanPrice\n",
    "9.  MMRAcquisitionRetailAveragePrice\n",
    "11. MMRAcquisitonRetailCleanPrice\n",
    "12. MMRCurrentAuctionAveragePrice\n",
    "13. MMRCurrentAuctionCleanPrice\n",
    "14. MMRCurrentRetailAveragePrice\n",
    "15. MMRCurrentRetailCleanPrice\n",
    "\n",
    "##### Categorical Columns:\n",
    "1. Auction\n",
    "2. Transmission\n",
    "3. WheelType\n",
    "4. Nationality\n",
    "5. Size\n",
    "6. TopThreeAmericanName\n",
    "7. IsOnlineSale\n",
    "\n",
    "##### Fix NULLs\n",
    "1. Trim\n",
    "2. AUCGUART\n",
    "3. PRIMEUNIT\n",
    "4. ALL Price Cols"
   ]
  },
  {
   "cell_type": "code",
   "execution_count": 102,
   "metadata": {},
   "outputs": [],
   "source": [
    "#Lets looks a a data profiling report using pandas_profiling API\n",
    "#pandas_profiling.ProfileReport(df)"
   ]
  },
  {
   "cell_type": "markdown",
   "metadata": {},
   "source": [
    "### Correlation analysis"
   ]
  },
  {
   "cell_type": "code",
   "execution_count": 103,
   "metadata": {},
   "outputs": [
    {
     "name": "stdout",
     "output_type": "stream",
     "text": [
      "Most Positive Correlations: \n",
      " VNZIP1          0.005796\n",
      "WarrantyCost    0.052319\n",
      "VehOdo          0.082560\n",
      "VehicleAge      0.167164\n",
      "IsBadBuy        1.000000\n",
      "Name: IsBadBuy, dtype: float64\n",
      "\n",
      "Most Negative Correlations: \n",
      " VehYear                             -0.158886\n",
      "MMRAcquisitionAuctionAveragePrice   -0.109252\n",
      "MMRCurrentAuctionAveragePrice       -0.109112\n",
      "MMRCurrentAuctionCleanPrice         -0.104020\n",
      "MMRCurrentRetailAveragePrice        -0.103914\n",
      "Name: IsBadBuy, dtype: float64\n"
     ]
    }
   ],
   "source": [
    "df_new_corr = df.copy()\n",
    "df_new_corr = df_new_corr.drop(['RefId','PurchDate','Auction','Make','Model','Size','TopThreeAmericanName','PRIMEUNIT','AUCGUART',\n",
    "                              'Trim','SubModel','Color','Transmission','WheelType','Nationality','BYRNO','VNST'],axis=1)\n",
    "correlations = df_new_corr.corr()['IsBadBuy'].sort_values()\n",
    "print('Most Positive Correlations: \\n', correlations.tail(5))\n",
    "print('\\nMost Negative Correlations: \\n', correlations.head(5))"
   ]
  },
  {
   "cell_type": "markdown",
   "metadata": {},
   "source": [
    "# Let's plot a heatmap to visualize the correaltion between IsBadBuy and other attributes"
   ]
  },
  {
   "cell_type": "code",
   "execution_count": 104,
   "metadata": {},
   "outputs": [
    {
     "data": {
      "text/plain": [
       "<matplotlib.axes._subplots.AxesSubplot at 0x21832d975c0>"
      ]
     },
     "execution_count": 104,
     "metadata": {},
     "output_type": "execute_result"
    },
    {
     "data": {
      "image/png": "[encoded data removed]",
      "text/plain": [
       "<Figure size 1080x720 with 2 Axes>"
      ]
     },
     "metadata": {
      "needs_background": "light"
     },
     "output_type": "display_data"
    }
   ],
   "source": [
    "# Calculate correlations\n",
    "corr = df_new_corr.corr()\n",
    "mask = np.zeros_like(corr)\n",
    "mask[np.triu_indices_from(mask)] = True\n",
    "# Heatmap\n",
    "plt.figure(figsize=(15, 10))\n",
    "sns.heatmap(corr,\n",
    "            vmax=.5,\n",
    "            mask=mask,\n",
    "            # annot=True, fmt='.2f',\n",
    "            linewidths=.2, cmap=\"YlGnBu\")"
   ]
  },
  {
   "cell_type": "markdown",
   "metadata": {},
   "source": [
    "> As seen in the profile report above, the price attributes are highliy correlated to each other. <p>\n",
    "> VehAge, WarrantCost and VehOdo are the most correlated attributes"
   ]
  },
  {
   "cell_type": "markdown",
   "metadata": {},
   "source": [
    "### Dataprocessing\n",
    "1. Dropping columms"
   ]
  },
  {
   "cell_type": "code",
   "execution_count": 105,
   "metadata": {},
   "outputs": [],
   "source": [
    "raw_df = df\n",
    "# Dropping columns\n",
    "df = df.drop(['PRIMEUNIT', 'AUCGUART'], axis=1)\n",
    "\n",
    "#dropping the target variable\n",
    "#df = df.drop('IsBadBuy', axis=1)"
   ]
  },
  {
   "cell_type": "code",
   "execution_count": 106,
   "metadata": {},
   "outputs": [
    {
     "name": "stdout",
     "output_type": "stream",
     "text": [
      "<class 'pandas.core.frame.DataFrame'>\n",
      "RangeIndex: 72983 entries, 0 to 72982\n",
      "Data columns (total 32 columns):\n",
      "RefId                                72983 non-null int64\n",
      "IsBadBuy                             72983 non-null int64\n",
      "PurchDate                            72983 non-null object\n",
      "Auction                              72983 non-null object\n",
      "VehYear                              72983 non-null int64\n",
      "VehicleAge                           72983 non-null int64\n",
      "Make                                 72983 non-null object\n",
      "Model                                72983 non-null object\n",
      "Trim                                 70623 non-null object\n",
      "SubModel                             72975 non-null object\n",
      "Color                                72975 non-null object\n",
      "Transmission                         72974 non-null object\n",
      "WheelTypeID                          69814 non-null float64\n",
      "WheelType                            69809 non-null object\n",
      "VehOdo                               72983 non-null int64\n",
      "Nationality                          72978 non-null object\n",
      "Size                                 72978 non-null object\n",
      "TopThreeAmericanName                 72978 non-null object\n",
      "MMRAcquisitionAuctionAveragePrice    72965 non-null float64\n",
      "MMRAcquisitionAuctionCleanPrice      72965 non-null float64\n",
      "MMRAcquisitionRetailAveragePrice     72965 non-null float64\n",
      "MMRAcquisitonRetailCleanPrice        72965 non-null float64\n",
      "MMRCurrentAuctionAveragePrice        72668 non-null float64\n",
      "MMRCurrentAuctionCleanPrice          72668 non-null float64\n",
      "MMRCurrentRetailAveragePrice         72668 non-null float64\n",
      "MMRCurrentRetailCleanPrice           72668 non-null float64\n",
      "BYRNO                                72983 non-null int64\n",
      "VNZIP1                               72983 non-null int64\n",
      "VNST                                 72983 non-null object\n",
      "VehBCost                             72983 non-null float64\n",
      "IsOnlineSale                         72983 non-null int64\n",
      "WarrantyCost                         72983 non-null int64\n",
      "dtypes: float64(10), int64(9), object(13)\n",
      "memory usage: 17.8+ MB\n"
     ]
    }
   ],
   "source": [
    "df.info()"
   ]
  },
  {
   "cell_type": "markdown",
   "metadata": {},
   "source": [
    ">Has NULL Values:\n",
    "\n",
    ">1. Trim\n",
    ">2. AUCGUART\n",
    ">3. PRIMEUNIT\n",
    ">4. ALL Price Cols\n",
    "\n",
    ">Numerical Variables:\n",
    "\n",
    ">1. VehYear\n",
    ">2. VehicleAge\n",
    ">3. VehOdi\n",
    ">4. VNZIP1\n",
    ">5. VehCost\n",
    ">6. All Price Columns\n",
    "\n",
    ">Categorical Variables:\n",
    "\n",
    ">1. Auction\n",
    ">2. Transmission\n",
    ">3. WheelType\n",
    ">4. Nationality\n",
    ">5. Size\n",
    ">6. TopThreeAmericanName\n",
    ">7. IsOnlineSale"
   ]
  },
  {
   "cell_type": "markdown",
   "metadata": {},
   "source": [
    "> The target variable IsBadBuy a binary classifcation variable, meaning we are assigned a value of 1 if the car purchased in a Bad buy or 0 if a car is not a Bad buy (good buy).\n",
    "\n",
    "> It is important to note that while doing this prediction we need to be careful about the high cost of predicting false negatives. This means that a dealership might think that this car is a good buy and think they would be able to sell it, however in reality this a actually a Bad Buy and not sellable.\n",
    "\n",
    "> A false postive has a cost associated with it as well, if the purchase as classified as a Bad buu in realilty it is indeed a sellable car, then the delearship might loose the opportunity selling the used car and generating profit of it."
   ]
  },
  {
   "cell_type": "markdown",
   "metadata": {},
   "source": [
    ">Quesitons:\n",
    "\n",
    ">1.There is no column in the Test data provided from the Kaggle Competetion, does this mean that I have to use Cross Validation sampling to split the Training Data into either 5 folds to 10 folds and also how can I know how many number of folds to choose in this case?\n",
    "\n",
    ">2.WheelType has 3174 / 4.3% missing values Missing\n",
    ">WheelTypeID has 3169 / 4.3% missing values Missing\n",
    ">I thought both should have mostly same missing values, but they do not.\n",
    "\n"
   ]
  },
  {
   "cell_type": "markdown",
   "metadata": {},
   "source": [
    ">Clarifications:\n",
    ">1. Auction: This is the expected price of the car at an Auction.\n",
    ">2. MMR: This is Manheim Market Report, which is an indicator of wholesale prices of a car determined by a very establised company that provides very statistically sounds whole car price determinations.\n",
    ">3. Acquisition: This is the price at which the car's MMR sold at the auction. \n",
    ">4. Retail: This mean the expected price of the car which the customer is willing to pay at the dealership.\n",
    ">5. VNST and VNZIP1 are state and zip codes\n",
    ">6. TopAmericanName: If the vechicle is from one of the top three american car manufacturers.\n",
    "\n",
    ">nearest neighbhors for categorials or look at similar cars look at high correlated variables understand the missing data and then find solutions"
   ]
  },
  {
   "cell_type": "code",
   "execution_count": 107,
   "metadata": {},
   "outputs": [
    {
     "data": {
      "image/png": "[encoded data removed]",
      "text/plain": [
       "<Figure size 720x576 with 1 Axes>"
      ]
     },
     "metadata": {
      "needs_background": "light"
     },
     "output_type": "display_data"
    }
   ],
   "source": [
    "df['Make'].value_counts().plot(kind='barh', figsize=(10, 8))\n",
    "plt.xlabel(\"Car Makes\", labelpad=14)\n",
    "plt.ylabel(\"Vehicle Counts\", labelpad=14)\n",
    "plt.title(\"Counts of Car Makes\", y=1.02);"
   ]
  },
  {
   "cell_type": "code",
   "execution_count": 108,
   "metadata": {},
   "outputs": [],
   "source": [
    "#replace Manual with MANUAL\n",
    "df['Transmission'].replace(to_replace =['Manual'],\n",
    "                           value =\"MANUAL\",inplace=True)"
   ]
  },
  {
   "cell_type": "code",
   "execution_count": 109,
   "metadata": {},
   "outputs": [
    {
     "data": {
      "text/plain": [
       "AUTO      70398\n",
       "MANUAL     2576\n",
       "Name: Transmission, dtype: int64"
      ]
     },
     "execution_count": 109,
     "metadata": {},
     "output_type": "execute_result"
    }
   ],
   "source": [
    "df['Transmission'].value_counts()"
   ]
  },
  {
   "cell_type": "code",
   "execution_count": 110,
   "metadata": {},
   "outputs": [
    {
     "data": {
      "text/html": [
       "<div>\n",
       "<style scoped>\n",
       "    .dataframe tbody tr th:only-of-type {\n",
       "        vertical-align: middle;\n",
       "    }\n",
       "\n",
       "    .dataframe tbody tr th {\n",
       "        vertical-align: top;\n",
       "    }\n",
       "\n",
       "    .dataframe thead th {\n",
       "        text-align: right;\n",
       "    }\n",
       "</style>\n",
       "<table border=\"1\" class=\"dataframe\">\n",
       "  <thead>\n",
       "    <tr style=\"text-align: right;\">\n",
       "      <th></th>\n",
       "      <th>RefId</th>\n",
       "      <th>IsBadBuy</th>\n",
       "      <th>PurchDate</th>\n",
       "      <th>Auction</th>\n",
       "      <th>VehYear</th>\n",
       "      <th>VehicleAge</th>\n",
       "      <th>Make</th>\n",
       "      <th>Model</th>\n",
       "      <th>Trim</th>\n",
       "      <th>SubModel</th>\n",
       "      <th>...</th>\n",
       "      <th>MMRCurrentAuctionAveragePrice</th>\n",
       "      <th>MMRCurrentAuctionCleanPrice</th>\n",
       "      <th>MMRCurrentRetailAveragePrice</th>\n",
       "      <th>MMRCurrentRetailCleanPrice</th>\n",
       "      <th>BYRNO</th>\n",
       "      <th>VNZIP1</th>\n",
       "      <th>VNST</th>\n",
       "      <th>VehBCost</th>\n",
       "      <th>IsOnlineSale</th>\n",
       "      <th>WarrantyCost</th>\n",
       "    </tr>\n",
       "  </thead>\n",
       "  <tbody>\n",
       "    <tr>\n",
       "      <th>0</th>\n",
       "      <td>1</td>\n",
       "      <td>0</td>\n",
       "      <td>12/7/2009</td>\n",
       "      <td>ADESA</td>\n",
       "      <td>2006</td>\n",
       "      <td>3</td>\n",
       "      <td>MAZDA</td>\n",
       "      <td>MAZDA3</td>\n",
       "      <td>i</td>\n",
       "      <td>4D SEDAN I</td>\n",
       "      <td>...</td>\n",
       "      <td>7451.0</td>\n",
       "      <td>8552.0</td>\n",
       "      <td>11597.0</td>\n",
       "      <td>12409.0</td>\n",
       "      <td>21973</td>\n",
       "      <td>33619</td>\n",
       "      <td>FL</td>\n",
       "      <td>7100.0</td>\n",
       "      <td>0</td>\n",
       "      <td>1113</td>\n",
       "    </tr>\n",
       "    <tr>\n",
       "      <th>1</th>\n",
       "      <td>2</td>\n",
       "      <td>0</td>\n",
       "      <td>12/7/2009</td>\n",
       "      <td>ADESA</td>\n",
       "      <td>2004</td>\n",
       "      <td>5</td>\n",
       "      <td>DODGE</td>\n",
       "      <td>1500 RAM PICKUP 2WD</td>\n",
       "      <td>ST</td>\n",
       "      <td>QUAD CAB 4.7L SLT</td>\n",
       "      <td>...</td>\n",
       "      <td>7456.0</td>\n",
       "      <td>9222.0</td>\n",
       "      <td>11374.0</td>\n",
       "      <td>12791.0</td>\n",
       "      <td>19638</td>\n",
       "      <td>33619</td>\n",
       "      <td>FL</td>\n",
       "      <td>7600.0</td>\n",
       "      <td>0</td>\n",
       "      <td>1053</td>\n",
       "    </tr>\n",
       "    <tr>\n",
       "      <th>2</th>\n",
       "      <td>3</td>\n",
       "      <td>0</td>\n",
       "      <td>12/7/2009</td>\n",
       "      <td>ADESA</td>\n",
       "      <td>2005</td>\n",
       "      <td>4</td>\n",
       "      <td>DODGE</td>\n",
       "      <td>STRATUS V6</td>\n",
       "      <td>SXT</td>\n",
       "      <td>4D SEDAN SXT FFV</td>\n",
       "      <td>...</td>\n",
       "      <td>4035.0</td>\n",
       "      <td>5557.0</td>\n",
       "      <td>7146.0</td>\n",
       "      <td>8702.0</td>\n",
       "      <td>19638</td>\n",
       "      <td>33619</td>\n",
       "      <td>FL</td>\n",
       "      <td>4900.0</td>\n",
       "      <td>0</td>\n",
       "      <td>1389</td>\n",
       "    </tr>\n",
       "    <tr>\n",
       "      <th>3</th>\n",
       "      <td>4</td>\n",
       "      <td>0</td>\n",
       "      <td>12/7/2009</td>\n",
       "      <td>ADESA</td>\n",
       "      <td>2004</td>\n",
       "      <td>5</td>\n",
       "      <td>DODGE</td>\n",
       "      <td>NEON</td>\n",
       "      <td>SXT</td>\n",
       "      <td>4D SEDAN</td>\n",
       "      <td>...</td>\n",
       "      <td>1844.0</td>\n",
       "      <td>2646.0</td>\n",
       "      <td>4375.0</td>\n",
       "      <td>5518.0</td>\n",
       "      <td>19638</td>\n",
       "      <td>33619</td>\n",
       "      <td>FL</td>\n",
       "      <td>4100.0</td>\n",
       "      <td>0</td>\n",
       "      <td>630</td>\n",
       "    </tr>\n",
       "    <tr>\n",
       "      <th>4</th>\n",
       "      <td>5</td>\n",
       "      <td>0</td>\n",
       "      <td>12/7/2009</td>\n",
       "      <td>ADESA</td>\n",
       "      <td>2005</td>\n",
       "      <td>4</td>\n",
       "      <td>FORD</td>\n",
       "      <td>FOCUS</td>\n",
       "      <td>ZX3</td>\n",
       "      <td>2D COUPE ZX3</td>\n",
       "      <td>...</td>\n",
       "      <td>3247.0</td>\n",
       "      <td>4384.0</td>\n",
       "      <td>6739.0</td>\n",
       "      <td>7911.0</td>\n",
       "      <td>19638</td>\n",
       "      <td>33619</td>\n",
       "      <td>FL</td>\n",
       "      <td>4000.0</td>\n",
       "      <td>0</td>\n",
       "      <td>1020</td>\n",
       "    </tr>\n",
       "  </tbody>\n",
       "</table>\n",
       "<p>5 rows × 32 columns</p>\n",
       "</div>"
      ],
      "text/plain": [
       "   RefId  IsBadBuy  PurchDate Auction  VehYear  VehicleAge   Make  \\\n",
       "0      1         0  12/7/2009   ADESA     2006           3  MAZDA   \n",
       "1      2         0  12/7/2009   ADESA     2004           5  DODGE   \n",
       "2      3         0  12/7/2009   ADESA     2005           4  DODGE   \n",
       "3      4         0  12/7/2009   ADESA     2004           5  DODGE   \n",
       "4      5         0  12/7/2009   ADESA     2005           4   FORD   \n",
       "\n",
       "                 Model Trim           SubModel  ...  \\\n",
       "0               MAZDA3    i         4D SEDAN I  ...   \n",
       "1  1500 RAM PICKUP 2WD   ST  QUAD CAB 4.7L SLT  ...   \n",
       "2           STRATUS V6  SXT   4D SEDAN SXT FFV  ...   \n",
       "3                 NEON  SXT           4D SEDAN  ...   \n",
       "4                FOCUS  ZX3       2D COUPE ZX3  ...   \n",
       "\n",
       "  MMRCurrentAuctionAveragePrice MMRCurrentAuctionCleanPrice  \\\n",
       "0                        7451.0                      8552.0   \n",
       "1                        7456.0                      9222.0   \n",
       "2                        4035.0                      5557.0   \n",
       "3                        1844.0                      2646.0   \n",
       "4                        3247.0                      4384.0   \n",
       "\n",
       "   MMRCurrentRetailAveragePrice MMRCurrentRetailCleanPrice  BYRNO VNZIP1 VNST  \\\n",
       "0                       11597.0                    12409.0  21973  33619   FL   \n",
       "1                       11374.0                    12791.0  19638  33619   FL   \n",
       "2                        7146.0                     8702.0  19638  33619   FL   \n",
       "3                        4375.0                     5518.0  19638  33619   FL   \n",
       "4                        6739.0                     7911.0  19638  33619   FL   \n",
       "\n",
       "  VehBCost  IsOnlineSale  WarrantyCost  \n",
       "0   7100.0             0          1113  \n",
       "1   7600.0             0          1053  \n",
       "2   4900.0             0          1389  \n",
       "3   4100.0             0           630  \n",
       "4   4000.0             0          1020  \n",
       "\n",
       "[5 rows x 32 columns]"
      ]
     },
     "execution_count": 110,
     "metadata": {},
     "output_type": "execute_result"
    }
   ],
   "source": [
    "df.head()"
   ]
  },
  {
   "cell_type": "code",
   "execution_count": 111,
   "metadata": {},
   "outputs": [],
   "source": [
    "import re\n",
    "\n",
    "# Write a pattern to extract numbers and decimals\n",
    "def return_eng_size(length):\n",
    "    pattern = re.compile(r\"\\d+\\.\\d[lL]\")\n",
    "    \n",
    "    # Search the text for matches\n",
    "    size = re.search(pattern, length)\n",
    "    \n",
    "    # If a value is returned, use group(0) to return the found value\n",
    "    if size is not None:\n",
    "        return str(size.group(0))\n",
    "    else:\n",
    "        return str(\"Missing\")\n",
    "    \n",
    "df[\"EngineSize\"] = df['Model'].apply(lambda x: return_eng_size(x))"
   ]
  },
  {
   "cell_type": "code",
   "execution_count": 112,
   "metadata": {},
   "outputs": [],
   "source": [
    "# Write a pattern to extract numbers and decimals\n",
    "def return_veh_char(length):\n",
    "    pattern = re.compile(r\"4WD|2WD|AWD|FWD|V8|V6|4C|6C|DOHC|MPI|SFI*|MFI|EFI*\")\n",
    "    \n",
    "    # Search the text for matches\n",
    "    veh_char = re.search(pattern, str(length))\n",
    "    \n",
    "    # If a value is returned, use group(0) to return the found value\n",
    "    if veh_char is not None:\n",
    "        return str(veh_char.group(0))\n",
    "    else:\n",
    "        return str(\"Missing\")\n",
    "    \n",
    "df[\"VehileEngChar\"] = df['Model'].apply(lambda x: return_veh_char(x))"
   ]
  },
  {
   "cell_type": "code",
   "execution_count": 113,
   "metadata": {},
   "outputs": [],
   "source": [
    "df[\"VehileEngCharSub\"] = df['SubModel'].apply(lambda x: return_veh_char(x))"
   ]
  },
  {
   "cell_type": "code",
   "execution_count": 114,
   "metadata": {},
   "outputs": [
    {
     "data": {
      "text/plain": [
       "Missing    21514\n",
       "V6         14525\n",
       "2WD        11009\n",
       "4C          9727\n",
       "FWD         7197\n",
       "4WD         3429\n",
       "MPI         1701\n",
       "EFI         1442\n",
       "SFI         1314\n",
       "AWD          751\n",
       "MFI          201\n",
       "V8            65\n",
       "DOHC          56\n",
       "EF            26\n",
       "SF            18\n",
       "6C             8\n",
       "Name: VehileEngChar, dtype: int64"
      ]
     },
     "execution_count": 114,
     "metadata": {},
     "output_type": "execute_result"
    }
   ],
   "source": [
    "df[\"VehileEngChar\"].value_counts()"
   ]
  },
  {
   "cell_type": "code",
   "execution_count": 115,
   "metadata": {},
   "outputs": [],
   "source": [
    "df['VehEngChar'] = df.apply(lambda x: 'AWD' if x['VehileEngChar'] == 'AWD' or x['VehileEngCharSub'] == 'AWD' else x['VehileEngChar'], axis=1)"
   ]
  },
  {
   "cell_type": "code",
   "execution_count": 116,
   "metadata": {},
   "outputs": [
    {
     "data": {
      "text/plain": [
       "Missing    21450\n",
       "V6         14475\n",
       "2WD        11009\n",
       "4C          9727\n",
       "FWD         7197\n",
       "4WD         3429\n",
       "MPI         1701\n",
       "EFI         1441\n",
       "SFI         1314\n",
       "AWD          866\n",
       "MFI          201\n",
       "V8            65\n",
       "DOHC          56\n",
       "EF            26\n",
       "SF            18\n",
       "6C             8\n",
       "Name: VehEngChar, dtype: int64"
      ]
     },
     "execution_count": 116,
     "metadata": {},
     "output_type": "execute_result"
    }
   ],
   "source": [
    "df['VehEngChar'].value_counts()"
   ]
  },
  {
   "cell_type": "code",
   "execution_count": 117,
   "metadata": {},
   "outputs": [
    {
     "name": "stdout",
     "output_type": "stream",
     "text": [
      "<class 'pandas.core.frame.DataFrame'>\n",
      "RangeIndex: 72983 entries, 0 to 72982\n",
      "Data columns (total 34 columns):\n",
      "RefId                                72983 non-null int64\n",
      "IsBadBuy                             72983 non-null int64\n",
      "PurchDate                            72983 non-null object\n",
      "Auction                              72983 non-null object\n",
      "VehYear                              72983 non-null int64\n",
      "VehicleAge                           72983 non-null int64\n",
      "Make                                 72983 non-null object\n",
      "Model                                72983 non-null object\n",
      "Trim                                 70623 non-null object\n",
      "SubModel                             72975 non-null object\n",
      "Color                                72975 non-null object\n",
      "Transmission                         72974 non-null object\n",
      "WheelTypeID                          69814 non-null float64\n",
      "WheelType                            69809 non-null object\n",
      "VehOdo                               72983 non-null int64\n",
      "Nationality                          72978 non-null object\n",
      "Size                                 72978 non-null object\n",
      "TopThreeAmericanName                 72978 non-null object\n",
      "MMRAcquisitionAuctionAveragePrice    72965 non-null float64\n",
      "MMRAcquisitionAuctionCleanPrice      72965 non-null float64\n",
      "MMRAcquisitionRetailAveragePrice     72965 non-null float64\n",
      "MMRAcquisitonRetailCleanPrice        72965 non-null float64\n",
      "MMRCurrentAuctionAveragePrice        72668 non-null float64\n",
      "MMRCurrentAuctionCleanPrice          72668 non-null float64\n",
      "MMRCurrentRetailAveragePrice         72668 non-null float64\n",
      "MMRCurrentRetailCleanPrice           72668 non-null float64\n",
      "BYRNO                                72983 non-null int64\n",
      "VNZIP1                               72983 non-null int64\n",
      "VNST                                 72983 non-null object\n",
      "VehBCost                             72983 non-null float64\n",
      "IsOnlineSale                         72983 non-null int64\n",
      "WarrantyCost                         72983 non-null int64\n",
      "EngineSize                           72983 non-null object\n",
      "VehEngChar                           72983 non-null object\n",
      "dtypes: float64(10), int64(9), object(15)\n",
      "memory usage: 18.9+ MB\n"
     ]
    }
   ],
   "source": [
    "df = df.drop(['VehileEngChar','VehileEngCharSub'],axis=1)\n",
    "df.info()"
   ]
  },
  {
   "cell_type": "code",
   "execution_count": 118,
   "metadata": {},
   "outputs": [
    {
     "data": {
      "text/plain": [
       "<matplotlib.axes._subplots.AxesSubplot at 0x21839bcc668>"
      ]
     },
     "execution_count": 118,
     "metadata": {},
     "output_type": "execute_result"
    },
    {
     "data": {
      "image/png": "[encoded data removed]",
      "text/plain": [
       "<Figure size 432x288 with 1 Axes>"
      ]
     },
     "metadata": {
      "needs_background": "light"
     },
     "output_type": "display_data"
    }
   ],
   "source": [
    "empty_trim_df = df[df['Trim'].isnull()]\n",
    "empty_trim_df['Make'].value_counts().plot(kind='barh')"
   ]
  },
  {
   "cell_type": "code",
   "execution_count": 119,
   "metadata": {},
   "outputs": [
    {
     "name": "stdout",
     "output_type": "stream",
     "text": [
      "False    70623\n",
      "True      2360\n",
      "Name: Trim, dtype: int64\n"
     ]
    },
    {
     "name": "stderr",
     "output_type": "stream",
     "text": [
      "M:\\Python\\lib\\site-packages\\ipykernel_launcher.py:11: FutureWarning:\n",
      "\n",
      "Interpreting tuple 'by' as a list of keys, rather than a single key. Use 'by=[...]' instead of 'by=(...)'. In the future, a tuple will always mean a single key.\n",
      "\n",
      "M:\\Python\\lib\\site-packages\\ipykernel_launcher.py:14: FutureWarning:\n",
      "\n",
      "Interpreting tuple 'by' as a list of keys, rather than a single key. Use 'by=[...]' instead of 'by=(...)'. In the future, a tuple will always mean a single key.\n",
      "\n"
     ]
    }
   ],
   "source": [
    "# imputing the missing values for categorical values\n",
    "#cat_cols = ['Auction','Make','Trim','TopThreeAmericanName','Model','SubModel','Color', \n",
    "#            'Transmission', 'WheelType','Nationality','Size', 'VNST']\n",
    "df.head()\n",
    "print(df['Trim'].isnull().value_counts())\n",
    "\n",
    "from collections import Counter\n",
    "def mostcomm(x):\n",
    "    return x.replace(np.nan, Counter(x).most_common()[0][0])\n",
    "\n",
    "df['TrimNew'] = df.groupby(('Make','Model','SubModel')).Trim.apply(mostcomm)\n",
    "df['TrimNew'].isnull().value_counts()\n",
    "\n",
    "df_tmp = (df.groupby(('Make','Model','SubModel')))\n",
    "df_tmp[['Make','Model','SubModel','Trim','TrimNew']].head()\n",
    "\n",
    "\n",
    "df['TrimClean'] = df['Trim'].fillna(df['Trim'].value_counts().index[0])\n",
    "df['TrimClean'].isnull().value_counts()\n",
    "df = df.drop(['Trim','TrimNew'], axis=1)"
   ]
  },
  {
   "cell_type": "code",
   "execution_count": 120,
   "metadata": {},
   "outputs": [],
   "source": [
    "# Write a pattern to extract numbers and decimals\n",
    "def return_eng_cylnd(length):\n",
    "    pattern = re.compile(r\"([vViI]\\d|[vViI]\\s\\d|[vViI]\\-\\d)\")\n",
    "    \n",
    "    # Search the text for matches\n",
    "    eng_cylnd = re.search(pattern, length)\n",
    "    \n",
    "    # If a value is returned, use group(0) to return the found value\n",
    "    if eng_cylnd is not None:\n",
    "        return str(eng_cylnd.group(0))\n",
    "    else:\n",
    "        return str(\"Missing\")\n",
    "    \n",
    "df[\"VehileEngCylinder\"] = df['Model'].apply(lambda x: return_eng_cylnd(x))"
   ]
  },
  {
   "cell_type": "code",
   "execution_count": 121,
   "metadata": {},
   "outputs": [
    {
     "data": {
      "text/plain": [
       "Missing    48532\n",
       "2.4L        3777\n",
       "3.5L        3126\n",
       "2.0L        2635\n",
       "3.0L        2511\n",
       "2.2L        2444\n",
       "2.7L        2031\n",
       "3.8L        1628\n",
       "3.4L        1403\n",
       "3.9L         637\n",
       "3.3L         522\n",
       "4.7L         500\n",
       "4.0L         485\n",
       "3.7L         418\n",
       "1.6L         392\n",
       "2.3L         389\n",
       "4.2L         286\n",
       "3.1L         261\n",
       "2.5L         256\n",
       "1.8L         187\n",
       "5.3L         136\n",
       "5.7L         109\n",
       "4.8L          79\n",
       "4.6L          78\n",
       "1.9L          62\n",
       "1.5L          42\n",
       "5.9L          20\n",
       "3.2L          15\n",
       "1.7L          10\n",
       "3.6L          10\n",
       "4.5L           2\n",
       "Name: EngineSize, dtype: int64"
      ]
     },
     "execution_count": 121,
     "metadata": {},
     "output_type": "execute_result"
    }
   ],
   "source": [
    "df.EngineSize.value_counts()"
   ]
  },
  {
   "cell_type": "code",
   "execution_count": 122,
   "metadata": {},
   "outputs": [],
   "source": [
    "def fix_eng_vals(x):\n",
    "    if x == \"I-4\":\n",
    "        return str(\"I4\")\n",
    "    elif x == \"I 4\":\n",
    "        return str(\"I4\")\n",
    "    elif x == \"I-2\":\n",
    "        return str(\"I2\")\n",
    "    elif x == \"I 2\":\n",
    "        return str(\"I2\")\n",
    "    elif x == \"I-3\":\n",
    "        return str(\"I3\")\n",
    "    elif x == \"I 3\":\n",
    "        return str(\"I3\")\n",
    "    elif x == \"I-6\":\n",
    "        return str(\"I6\")\n",
    "    elif x == \"I 6\":\n",
    "        return str(\"I6\")\n",
    "    elif x == \"V-6\":\n",
    "        return str(\"V6\")\n",
    "    elif x == \"V 6\":\n",
    "        return str(\"V6\")\n",
    "    elif x == \"V-4\":\n",
    "        return str(\"V4\")\n",
    "    elif x == \"V 4\":\n",
    "        return str(\"V4\")\n",
    "    elif x == \"V-2\":\n",
    "        return str(\"V2\")\n",
    "    elif x == \"V 2\":\n",
    "        return str(\"V2\")\n",
    "    else:\n",
    "        return x\n",
    "\n",
    "df[\"VehEngCylndr\"] = df['VehileEngCylinder'].apply(lambda x: fix_eng_vals(x))"
   ]
  },
  {
   "cell_type": "code",
   "execution_count": 123,
   "metadata": {},
   "outputs": [],
   "source": [
    "df[\"VehEngCylndr\"].value_counts()\n",
    "df.drop(['VehileEngCylinder'],axis=1,inplace=True)"
   ]
  },
  {
   "cell_type": "code",
   "execution_count": 124,
   "metadata": {},
   "outputs": [
    {
     "data": {
      "text/html": [
       "<div>\n",
       "<style scoped>\n",
       "    .dataframe tbody tr th:only-of-type {\n",
       "        vertical-align: middle;\n",
       "    }\n",
       "\n",
       "    .dataframe tbody tr th {\n",
       "        vertical-align: top;\n",
       "    }\n",
       "\n",
       "    .dataframe thead th {\n",
       "        text-align: right;\n",
       "    }\n",
       "</style>\n",
       "<table border=\"1\" class=\"dataframe\">\n",
       "  <thead>\n",
       "    <tr style=\"text-align: right;\">\n",
       "      <th></th>\n",
       "      <th>RefId</th>\n",
       "      <th>IsBadBuy</th>\n",
       "      <th>PurchDate</th>\n",
       "      <th>Auction</th>\n",
       "      <th>VehYear</th>\n",
       "      <th>VehicleAge</th>\n",
       "      <th>Make</th>\n",
       "      <th>Model</th>\n",
       "      <th>SubModel</th>\n",
       "      <th>Color</th>\n",
       "      <th>...</th>\n",
       "      <th>BYRNO</th>\n",
       "      <th>VNZIP1</th>\n",
       "      <th>VNST</th>\n",
       "      <th>VehBCost</th>\n",
       "      <th>IsOnlineSale</th>\n",
       "      <th>WarrantyCost</th>\n",
       "      <th>EngineSize</th>\n",
       "      <th>VehEngChar</th>\n",
       "      <th>TrimClean</th>\n",
       "      <th>VehEngCylndr</th>\n",
       "    </tr>\n",
       "  </thead>\n",
       "  <tbody>\n",
       "    <tr>\n",
       "      <th>0</th>\n",
       "      <td>1</td>\n",
       "      <td>0</td>\n",
       "      <td>12/7/2009</td>\n",
       "      <td>ADESA</td>\n",
       "      <td>2006</td>\n",
       "      <td>3</td>\n",
       "      <td>MAZDA</td>\n",
       "      <td>MAZDA3</td>\n",
       "      <td>4D SEDAN I</td>\n",
       "      <td>RED</td>\n",
       "      <td>...</td>\n",
       "      <td>21973</td>\n",
       "      <td>33619</td>\n",
       "      <td>FL</td>\n",
       "      <td>7100.0</td>\n",
       "      <td>0</td>\n",
       "      <td>1113</td>\n",
       "      <td>Missing</td>\n",
       "      <td>Missing</td>\n",
       "      <td>i</td>\n",
       "      <td>Missing</td>\n",
       "    </tr>\n",
       "    <tr>\n",
       "      <th>1</th>\n",
       "      <td>2</td>\n",
       "      <td>0</td>\n",
       "      <td>12/7/2009</td>\n",
       "      <td>ADESA</td>\n",
       "      <td>2004</td>\n",
       "      <td>5</td>\n",
       "      <td>DODGE</td>\n",
       "      <td>1500 RAM PICKUP 2WD</td>\n",
       "      <td>QUAD CAB 4.7L SLT</td>\n",
       "      <td>WHITE</td>\n",
       "      <td>...</td>\n",
       "      <td>19638</td>\n",
       "      <td>33619</td>\n",
       "      <td>FL</td>\n",
       "      <td>7600.0</td>\n",
       "      <td>0</td>\n",
       "      <td>1053</td>\n",
       "      <td>Missing</td>\n",
       "      <td>2WD</td>\n",
       "      <td>ST</td>\n",
       "      <td>Missing</td>\n",
       "    </tr>\n",
       "    <tr>\n",
       "      <th>2</th>\n",
       "      <td>3</td>\n",
       "      <td>0</td>\n",
       "      <td>12/7/2009</td>\n",
       "      <td>ADESA</td>\n",
       "      <td>2005</td>\n",
       "      <td>4</td>\n",
       "      <td>DODGE</td>\n",
       "      <td>STRATUS V6</td>\n",
       "      <td>4D SEDAN SXT FFV</td>\n",
       "      <td>MAROON</td>\n",
       "      <td>...</td>\n",
       "      <td>19638</td>\n",
       "      <td>33619</td>\n",
       "      <td>FL</td>\n",
       "      <td>4900.0</td>\n",
       "      <td>0</td>\n",
       "      <td>1389</td>\n",
       "      <td>Missing</td>\n",
       "      <td>V6</td>\n",
       "      <td>SXT</td>\n",
       "      <td>V6</td>\n",
       "    </tr>\n",
       "    <tr>\n",
       "      <th>3</th>\n",
       "      <td>4</td>\n",
       "      <td>0</td>\n",
       "      <td>12/7/2009</td>\n",
       "      <td>ADESA</td>\n",
       "      <td>2004</td>\n",
       "      <td>5</td>\n",
       "      <td>DODGE</td>\n",
       "      <td>NEON</td>\n",
       "      <td>4D SEDAN</td>\n",
       "      <td>SILVER</td>\n",
       "      <td>...</td>\n",
       "      <td>19638</td>\n",
       "      <td>33619</td>\n",
       "      <td>FL</td>\n",
       "      <td>4100.0</td>\n",
       "      <td>0</td>\n",
       "      <td>630</td>\n",
       "      <td>Missing</td>\n",
       "      <td>Missing</td>\n",
       "      <td>SXT</td>\n",
       "      <td>Missing</td>\n",
       "    </tr>\n",
       "    <tr>\n",
       "      <th>4</th>\n",
       "      <td>5</td>\n",
       "      <td>0</td>\n",
       "      <td>12/7/2009</td>\n",
       "      <td>ADESA</td>\n",
       "      <td>2005</td>\n",
       "      <td>4</td>\n",
       "      <td>FORD</td>\n",
       "      <td>FOCUS</td>\n",
       "      <td>2D COUPE ZX3</td>\n",
       "      <td>SILVER</td>\n",
       "      <td>...</td>\n",
       "      <td>19638</td>\n",
       "      <td>33619</td>\n",
       "      <td>FL</td>\n",
       "      <td>4000.0</td>\n",
       "      <td>0</td>\n",
       "      <td>1020</td>\n",
       "      <td>Missing</td>\n",
       "      <td>Missing</td>\n",
       "      <td>ZX3</td>\n",
       "      <td>Missing</td>\n",
       "    </tr>\n",
       "  </tbody>\n",
       "</table>\n",
       "<p>5 rows × 35 columns</p>\n",
       "</div>"
      ],
      "text/plain": [
       "   RefId  IsBadBuy  PurchDate Auction  VehYear  VehicleAge   Make  \\\n",
       "0      1         0  12/7/2009   ADESA     2006           3  MAZDA   \n",
       "1      2         0  12/7/2009   ADESA     2004           5  DODGE   \n",
       "2      3         0  12/7/2009   ADESA     2005           4  DODGE   \n",
       "3      4         0  12/7/2009   ADESA     2004           5  DODGE   \n",
       "4      5         0  12/7/2009   ADESA     2005           4   FORD   \n",
       "\n",
       "                 Model           SubModel   Color  ...  BYRNO  VNZIP1 VNST  \\\n",
       "0               MAZDA3         4D SEDAN I     RED  ...  21973   33619   FL   \n",
       "1  1500 RAM PICKUP 2WD  QUAD CAB 4.7L SLT   WHITE  ...  19638   33619   FL   \n",
       "2           STRATUS V6   4D SEDAN SXT FFV  MAROON  ...  19638   33619   FL   \n",
       "3                 NEON           4D SEDAN  SILVER  ...  19638   33619   FL   \n",
       "4                FOCUS       2D COUPE ZX3  SILVER  ...  19638   33619   FL   \n",
       "\n",
       "   VehBCost IsOnlineSale WarrantyCost EngineSize  VehEngChar  TrimClean  \\\n",
       "0    7100.0            0         1113    Missing     Missing          i   \n",
       "1    7600.0            0         1053    Missing         2WD         ST   \n",
       "2    4900.0            0         1389    Missing          V6        SXT   \n",
       "3    4100.0            0          630    Missing     Missing        SXT   \n",
       "4    4000.0            0         1020    Missing     Missing        ZX3   \n",
       "\n",
       "   VehEngCylndr  \n",
       "0       Missing  \n",
       "1       Missing  \n",
       "2            V6  \n",
       "3       Missing  \n",
       "4       Missing  \n",
       "\n",
       "[5 rows x 35 columns]"
      ]
     },
     "execution_count": 124,
     "metadata": {},
     "output_type": "execute_result"
    }
   ],
   "source": [
    "df.head()"
   ]
  },
  {
   "cell_type": "code",
   "execution_count": 125,
   "metadata": {},
   "outputs": [
    {
     "data": {
      "text/plain": [
       "PT CRUISER              2329\n",
       "IMPALA                  1990\n",
       "TAURUS                  1425\n",
       "CALIBER                 1375\n",
       "CARAVAN GRAND FWD V6    1289\n",
       "MALIBU 4C               1225\n",
       "TAURUS 3.0L V6 EFI      1160\n",
       "SEBRING 4C              1157\n",
       "COBALT                  1106\n",
       "PT CRUISER 2.4L I4 S    1104\n",
       "1500 RAM PICKUP 2WD     1101\n",
       "IMPALA V6               1062\n",
       "STRATUS V6 2.7L V6 M     991\n",
       "FOCUS                    909\n",
       "GRAND PRIX               885\n",
       "GRAND PRIX 3.8L V6 S     862\n",
       "IMPALA 3.5L V6 SFI       827\n",
       "ION                      720\n",
       "MALIBU 4C 2.2L I4 MP     715\n",
       "ALTIMA                   681\n",
       "AVENGER 4C               679\n",
       "SPECTRA                  674\n",
       "FORENZA                  649\n",
       "1500 SILVERADO PICKU     596\n",
       "MALIBU V6                586\n",
       "G6 V6                    555\n",
       "HHR                      549\n",
       "STRATUS V6               543\n",
       "UPLANDER FWD V6          542\n",
       "FIVE HUNDRED             525\n",
       "                        ... \n",
       "RODEO 2WD 4C MFI I-4       1\n",
       "MONTERO 4WD V6 3.8L        1\n",
       "IMPALA 5.3L V8 SFI         1\n",
       "S60                        1\n",
       "GRAND AM V6 3.4L V 6       1\n",
       "ECLIPSE 3.8L V6 MPI        1\n",
       "TOUAREG V8                 1\n",
       "626 V6                     1\n",
       "ECHO 1.5L I4 EFI           1\n",
       "S10 PICKUP 4WD V6 MF       1\n",
       "626 4C 2.0L I4 EFI         1\n",
       "BRAVADA 2WD V6 4.2L        1\n",
       "F250 PICKUP 4WD V8         1\n",
       "4 RUNNER 2WD V8 4.7L       1\n",
       "FJ CRUISER 4WD V6          1\n",
       "LANCER 2.4L I4 EFI         1\n",
       "SIENNA                     1\n",
       "ESCALADE 2WD               1\n",
       "SRX AWD V8 4.6L V8 S       1\n",
       "VUE AWD V6 3.0L V6 S       1\n",
       "VIBE AWD MFI I-4 1.8       1\n",
       "INTREPID 3.5L V6 EFI       1\n",
       "PROTEGE MFI I-4 1.6L       1\n",
       "ES300 3.0L V6 EFI DO       1\n",
       "ALERO 4C 2.4L I-4 SF       1\n",
       "RODEO 2WD V6               1\n",
       "AVALON 3.5L V6 EFI         1\n",
       "RELAY 2WD V6 3.9L V6       1\n",
       "ESCORT                     1\n",
       "SUNFIRE 2.2L I 4 NA        1\n",
       "Name: Model, Length: 1063, dtype: int64"
      ]
     },
     "execution_count": 125,
     "metadata": {},
     "output_type": "execute_result"
    }
   ],
   "source": [
    "df['Model'].value_counts()"
   ]
  },
  {
   "cell_type": "code",
   "execution_count": 126,
   "metadata": {},
   "outputs": [
    {
     "data": {
      "text/plain": [
       "{dtype('int64'): Index(['RefId', 'IsBadBuy', 'VehYear', 'VehicleAge', 'VehOdo', 'BYRNO',\n",
       "        'VNZIP1', 'IsOnlineSale', 'WarrantyCost'],\n",
       "       dtype='object'),\n",
       " dtype('float64'): Index(['WheelTypeID', 'MMRAcquisitionAuctionAveragePrice',\n",
       "        'MMRAcquisitionAuctionCleanPrice', 'MMRAcquisitionRetailAveragePrice',\n",
       "        'MMRAcquisitonRetailCleanPrice', 'MMRCurrentAuctionAveragePrice',\n",
       "        'MMRCurrentAuctionCleanPrice', 'MMRCurrentRetailAveragePrice',\n",
       "        'MMRCurrentRetailCleanPrice', 'VehBCost'],\n",
       "       dtype='object'),\n",
       " dtype('O'): Index(['PurchDate', 'Auction', 'Make', 'Model', 'SubModel', 'Color',\n",
       "        'Transmission', 'WheelType', 'Nationality', 'Size',\n",
       "        'TopThreeAmericanName', 'VNST', 'EngineSize', 'VehEngChar', 'TrimClean',\n",
       "        'VehEngCylndr'],\n",
       "       dtype='object')}"
      ]
     },
     "execution_count": 126,
     "metadata": {},
     "output_type": "execute_result"
    }
   ],
   "source": [
    "#The data set contains several numerical and categorial attributes\n",
    "df.columns.to_series().groupby(df.dtypes).groups"
   ]
  },
  {
   "cell_type": "code",
   "execution_count": 127,
   "metadata": {},
   "outputs": [
    {
     "name": "stdout",
     "output_type": "stream",
     "text": [
      "MMRCurrentAuctionAveragePrice        315\n",
      "MMRCurrentAuctionCleanPrice          315\n",
      "MMRCurrentRetailAveragePrice         315\n",
      "MMRCurrentRetailCleanPrice           315\n",
      "MMRAcquisitionAuctionAveragePrice     18\n",
      "MMRAcquisitonRetailCleanPrice         18\n",
      "MMRAcquisitionAuctionCleanPrice       18\n",
      "MMRAcquisitionRetailAveragePrice      18\n",
      "SubModel                               8\n",
      "Color                                  8\n",
      "Size                                   5\n",
      "Nationality                            5\n",
      "TopThreeAmericanName                   5\n",
      "dtype: int64\n"
     ]
    }
   ],
   "source": [
    "null_df = df[['MMRCurrentRetailCleanPrice','MMRCurrentRetailAveragePrice','MMRCurrentAuctionCleanPrice',\n",
    "            'MMRCurrentAuctionAveragePrice','MMRAcquisitionRetailAveragePrice', 'MMRAcquisitionAuctionCleanPrice',\n",
    "             'MMRAcquisitonRetailCleanPrice','MMRAcquisitionAuctionAveragePrice','Color','SubModel',\n",
    "             'TopThreeAmericanName','Nationality','Size']].isnull().sum().sort_values(ascending=False)\n",
    "print(null_df)"
   ]
  },
  {
   "cell_type": "markdown",
   "metadata": {},
   "source": [
    "### Regressing Current Prices based on Acquisition Prices"
   ]
  },
  {
   "cell_type": "code",
   "execution_count": 128,
   "metadata": {},
   "outputs": [],
   "source": [
    "df_num = df.copy(deep=True)"
   ]
  },
  {
   "cell_type": "code",
   "execution_count": 129,
   "metadata": {},
   "outputs": [
    {
     "name": "stdout",
     "output_type": "stream",
     "text": [
      "0.8968697965080711\n",
      "0.8888799525847134\n",
      "0.8898333763814336\n",
      "0.8808664593855817\n",
      "0.8625852736065148\n",
      "0.853233191780567\n",
      "0.8539167767848349\n",
      "0.8438427139110934\n"
     ]
    }
   ],
   "source": [
    "from sklearn import linear_model\n",
    "from sklearn.pipeline import Pipeline\n",
    "from sklearn.preprocessing import PolynomialFeatures\n",
    "from sklearn.model_selection import train_test_split\n",
    "\n",
    "clf = linear_model.LinearRegression()\n",
    "degree = 3\n",
    "polynomial_features = PolynomialFeatures(degree = degree, include_bias = True)\n",
    "pipeline = Pipeline([(\"polynomial_features\", polynomial_features), (\"classifier\", clf)])\n",
    "\n",
    "non_null_train = df_num[(pd.notnull(df_num.MMRAcquisitionAuctionAveragePrice)) &\n",
    "  (pd.notnull(df_num.MMRAcquisitionAuctionCleanPrice)) &\n",
    "  (pd.notnull(df_num.MMRAcquisitionRetailAveragePrice)) &\n",
    "  (pd.notnull(df_num.MMRAcquisitonRetailCleanPrice)) &\n",
    "  (pd.notnull(df_num.MMRCurrentAuctionAveragePrice)) &\n",
    "  (pd.notnull(df_num.MMRCurrentAuctionCleanPrice)) &\n",
    "  (pd.notnull(df_num.MMRCurrentRetailAveragePrice)) &\n",
    "  (pd.notnull(df_num.MMRCurrentRetailCleanPrice))]\n",
    "\n",
    "null_mask = ((pd.notnull(df_num.MMRAcquisitionAuctionAveragePrice)) &\n",
    "  (pd.notnull(df_num.MMRAcquisitionAuctionCleanPrice)) &\n",
    "  (pd.notnull(df_num.MMRAcquisitionRetailAveragePrice)) &\n",
    "  (pd.notnull(df_num.MMRAcquisitonRetailCleanPrice)) &\n",
    "  (pd.isnull(df_num.MMRCurrentAuctionAveragePrice)) &\n",
    "  (pd.isnull(df_num.MMRCurrentAuctionCleanPrice)) &\n",
    "  (pd.isnull(df_num.MMRCurrentRetailAveragePrice)) &\n",
    "  (pd.isnull(df_num.MMRCurrentRetailCleanPrice)))\n",
    "\n",
    "null_predict = df_num[null_mask]\n",
    "\n",
    "X = non_null_train[['MMRAcquisitionAuctionAveragePrice',\n",
    "  'MMRAcquisitionAuctionCleanPrice',\n",
    "  'MMRAcquisitionRetailAveragePrice',\n",
    "  'MMRAcquisitonRetailCleanPrice',\n",
    "  'VehicleAge',\n",
    "  'VehOdo'\n",
    "]]\n",
    "\n",
    "X_predict = null_predict[['MMRAcquisitionAuctionAveragePrice',\n",
    "  'MMRAcquisitionAuctionCleanPrice',\n",
    "  'MMRAcquisitionRetailAveragePrice',\n",
    "  'MMRAcquisitonRetailCleanPrice',\n",
    "  'VehicleAge',\n",
    "  'VehOdo'\n",
    "]]\n",
    "\n",
    "for target in ['MMRCurrentAuctionAveragePrice', \n",
    "               'MMRCurrentAuctionCleanPrice', \n",
    "               'MMRCurrentRetailAveragePrice', \n",
    "               'MMRCurrentRetailCleanPrice']:\n",
    "    y = non_null_train[target]\n",
    "    X_train, X_test, y_train, y_test = train_test_split(X,y, test_size= 0.3, random_state=123)\n",
    "    pipeline.fit(X_train, y_train)\n",
    "    print(pipeline.score(X_train, y_train))\n",
    "    print(pipeline.score(X_test, y_test))\n",
    "    result = pipeline.predict(X_predict)\n",
    "    df_num.loc[null_mask, target] = result"
   ]
  },
  {
   "cell_type": "code",
   "execution_count": 130,
   "metadata": {},
   "outputs": [
    {
     "data": {
      "text/plain": [
       "MMRCurrentAuctionAveragePrice    18\n",
       "MMRCurrentAuctionCleanPrice      18\n",
       "MMRCurrentRetailAveragePrice     18\n",
       "MMRCurrentRetailCleanPrice       18\n",
       "dtype: int64"
      ]
     },
     "execution_count": 130,
     "metadata": {},
     "output_type": "execute_result"
    }
   ],
   "source": [
    "df_num[['MMRCurrentAuctionAveragePrice', \n",
    "        'MMRCurrentAuctionCleanPrice', \n",
    "        'MMRCurrentRetailAveragePrice', \n",
    "        'MMRCurrentRetailCleanPrice']].isnull().sum()"
   ]
  },
  {
   "cell_type": "markdown",
   "metadata": {},
   "source": [
    "### Imputing the remaining missing numerical values"
   ]
  },
  {
   "cell_type": "code",
   "execution_count": 131,
   "metadata": {},
   "outputs": [
    {
     "name": "stdout",
     "output_type": "stream",
     "text": [
      "<class 'pandas.core.frame.DataFrame'>\n",
      "RangeIndex: 72983 entries, 0 to 72982\n",
      "Data columns (total 19 columns):\n",
      "RefId                                72983 non-null float64\n",
      "IsBadBuy                             72983 non-null float64\n",
      "VehYear                              72983 non-null float64\n",
      "VehicleAge                           72983 non-null float64\n",
      "WheelTypeID                          72983 non-null float64\n",
      "VehOdo                               72983 non-null float64\n",
      "MMRAcquisitionAuctionAveragePrice    72983 non-null float64\n",
      "MMRAcquisitionAuctionCleanPrice      72983 non-null float64\n",
      "MMRAcquisitionRetailAveragePrice     72983 non-null float64\n",
      "MMRAcquisitonRetailCleanPrice        72983 non-null float64\n",
      "MMRCurrentAuctionAveragePrice        72983 non-null float64\n",
      "MMRCurrentAuctionCleanPrice          72983 non-null float64\n",
      "MMRCurrentRetailAveragePrice         72983 non-null float64\n",
      "MMRCurrentRetailCleanPrice           72983 non-null float64\n",
      "BYRNO                                72983 non-null float64\n",
      "VNZIP1                               72983 non-null float64\n",
      "VehBCost                             72983 non-null float64\n",
      "IsOnlineSale                         72983 non-null float64\n",
      "WarrantyCost                         72983 non-null float64\n",
      "dtypes: float64(19)\n",
      "memory usage: 10.6 MB\n"
     ]
    }
   ],
   "source": [
    "#from sklearn.preprocessing import Imputer\n",
    "from sklearn.impute import SimpleImputer\n",
    "\n",
    "imputer = SimpleImputer(missing_values=np.nan, strategy='mean')\n",
    "\n",
    "num_df = df.select_dtypes(include=[np.number])\n",
    "\n",
    "imputer.fit(num_df)\n",
    "\n",
    "X = imputer.transform(num_df)\n",
    "\n",
    "num_df = pd.DataFrame(X, columns=num_df.columns.values)\n",
    "\n",
    "num_df.head()\n",
    "\n",
    "num_df.info()"
   ]
  },
  {
   "cell_type": "code",
   "execution_count": 132,
   "metadata": {},
   "outputs": [],
   "source": [
    "# All the price columns are related as per the report above.\n",
    "avg_prices_cols = ['MMRAcquisitionAuctionAveragePrice',\n",
    "              'MMRAcquisitionAuctionCleanPrice',\n",
    "              'MMRAcquisitionRetailAveragePrice',\n",
    "              'MMRAcquisitonRetailCleanPrice',              \n",
    "              'MMRCurrentAuctionAveragePrice',\n",
    "              'MMRCurrentAuctionCleanPrice',\n",
    "              'MMRCurrentRetailAveragePrice',\n",
    "              'MMRCurrentRetailCleanPrice']\n",
    "\n",
    "#df['AvgAuctionPrice'] = sum(df[i] for i in avg_prices_cols) / len(avg_prices_cols) \n",
    "#df = df.drop(avg_prices_cols, axis=1)"
   ]
  },
  {
   "cell_type": "code",
   "execution_count": 133,
   "metadata": {},
   "outputs": [
    {
     "ename": "KeyError",
     "evalue": "'Trim'",
     "output_type": "error",
     "traceback": [
      "\u001b[1;31m---------------------------------------------------------------------------\u001b[0m",
      "\u001b[1;31mKeyError\u001b[0m                                  Traceback (most recent call last)",
      "\u001b[1;32mM:\\Python\\lib\\site-packages\\pandas\\core\\indexes\\base.py\u001b[0m in \u001b[0;36mget_loc\u001b[1;34m(self, key, method, tolerance)\u001b[0m\n\u001b[0;32m   2656\u001b[0m             \u001b[1;32mtry\u001b[0m\u001b[1;33m:\u001b[0m\u001b[1;33m\u001b[0m\u001b[1;33m\u001b[0m\u001b[0m\n\u001b[1;32m-> 2657\u001b[1;33m                 \u001b[1;32mreturn\u001b[0m \u001b[0mself\u001b[0m\u001b[1;33m.\u001b[0m\u001b[0m_engine\u001b[0m\u001b[1;33m.\u001b[0m\u001b[0mget_loc\u001b[0m\u001b[1;33m(\u001b[0m\u001b[0mkey\u001b[0m\u001b[1;33m)\u001b[0m\u001b[1;33m\u001b[0m\u001b[1;33m\u001b[0m\u001b[0m\n\u001b[0m\u001b[0;32m   2658\u001b[0m             \u001b[1;32mexcept\u001b[0m \u001b[0mKeyError\u001b[0m\u001b[1;33m:\u001b[0m\u001b[1;33m\u001b[0m\u001b[1;33m\u001b[0m\u001b[0m\n",
      "\u001b[1;32mpandas/_libs/index.pyx\u001b[0m in \u001b[0;36mpandas._libs.index.IndexEngine.get_loc\u001b[1;34m()\u001b[0m\n",
      "\u001b[1;32mpandas/_libs/index.pyx\u001b[0m in \u001b[0;36mpandas._libs.index.IndexEngine.get_loc\u001b[1;34m()\u001b[0m\n",
      "\u001b[1;32mpandas/_libs/hashtable_class_helper.pxi\u001b[0m in \u001b[0;36mpandas._libs.hashtable.PyObjectHashTable.get_item\u001b[1;34m()\u001b[0m\n",
      "\u001b[1;32mpandas/_libs/hashtable_class_helper.pxi\u001b[0m in \u001b[0;36mpandas._libs.hashtable.PyObjectHashTable.get_item\u001b[1;34m()\u001b[0m\n",
      "\u001b[1;31mKeyError\u001b[0m: 'Trim'",
      "\nDuring handling of the above exception, another exception occurred:\n",
      "\u001b[1;31mKeyError\u001b[0m                                  Traceback (most recent call last)",
      "\u001b[1;32m<ipython-input-133-ac7f38b58c50>\u001b[0m in \u001b[0;36m<module>\u001b[1;34m\u001b[0m\n\u001b[1;32m----> 1\u001b[1;33m \u001b[0mempty_trim_df\u001b[0m \u001b[1;33m=\u001b[0m \u001b[0mdf\u001b[0m\u001b[1;33m[\u001b[0m\u001b[0mdf\u001b[0m\u001b[1;33m[\u001b[0m\u001b[1;34m'Trim'\u001b[0m\u001b[1;33m]\u001b[0m\u001b[1;33m.\u001b[0m\u001b[0misnull\u001b[0m\u001b[1;33m(\u001b[0m\u001b[1;33m)\u001b[0m\u001b[1;33m]\u001b[0m\u001b[1;33m\u001b[0m\u001b[1;33m\u001b[0m\u001b[0m\n\u001b[0m\u001b[0;32m      2\u001b[0m \u001b[0mempty_trim_df\u001b[0m\u001b[1;33m[\u001b[0m\u001b[1;34m'Make'\u001b[0m\u001b[1;33m]\u001b[0m\u001b[1;33m.\u001b[0m\u001b[0mvalue_counts\u001b[0m\u001b[1;33m(\u001b[0m\u001b[1;33m)\u001b[0m\u001b[1;33m.\u001b[0m\u001b[0mplot\u001b[0m\u001b[1;33m(\u001b[0m\u001b[0mkind\u001b[0m\u001b[1;33m=\u001b[0m\u001b[1;34m'barh'\u001b[0m\u001b[1;33m,\u001b[0m\u001b[0mfigsize\u001b[0m\u001b[1;33m=\u001b[0m\u001b[1;33m(\u001b[0m\u001b[1;36m10\u001b[0m\u001b[1;33m,\u001b[0m \u001b[1;36m8\u001b[0m\u001b[1;33m)\u001b[0m\u001b[1;33m)\u001b[0m\u001b[1;33m\u001b[0m\u001b[1;33m\u001b[0m\u001b[0m\n\u001b[0;32m      3\u001b[0m \u001b[0mplt\u001b[0m\u001b[1;33m.\u001b[0m\u001b[0mxlabel\u001b[0m\u001b[1;33m(\u001b[0m\u001b[1;34m\"Count of Car Makes with Nulls\"\u001b[0m\u001b[1;33m,\u001b[0m \u001b[0mlabelpad\u001b[0m\u001b[1;33m=\u001b[0m\u001b[1;36m14\u001b[0m\u001b[1;33m)\u001b[0m\u001b[1;33m\u001b[0m\u001b[1;33m\u001b[0m\u001b[0m\n\u001b[0;32m      4\u001b[0m \u001b[0mplt\u001b[0m\u001b[1;33m.\u001b[0m\u001b[0mylabel\u001b[0m\u001b[1;33m(\u001b[0m\u001b[1;34m\"Car Makes\"\u001b[0m\u001b[1;33m,\u001b[0m \u001b[0mlabelpad\u001b[0m\u001b[1;33m=\u001b[0m\u001b[1;36m14\u001b[0m\u001b[1;33m)\u001b[0m\u001b[1;33m\u001b[0m\u001b[1;33m\u001b[0m\u001b[0m\n\u001b[0;32m      5\u001b[0m \u001b[0mplt\u001b[0m\u001b[1;33m.\u001b[0m\u001b[0mtitle\u001b[0m\u001b[1;33m(\u001b[0m\u001b[1;34m\"Count Null values by Car Manufacturer\"\u001b[0m\u001b[1;33m,\u001b[0m \u001b[0my\u001b[0m\u001b[1;33m=\u001b[0m\u001b[1;36m1.02\u001b[0m\u001b[1;33m)\u001b[0m\u001b[1;33m;\u001b[0m\u001b[1;33m\u001b[0m\u001b[1;33m\u001b[0m\u001b[0m\n",
      "\u001b[1;32mM:\\Python\\lib\\site-packages\\pandas\\core\\frame.py\u001b[0m in \u001b[0;36m__getitem__\u001b[1;34m(self, key)\u001b[0m\n\u001b[0;32m   2925\u001b[0m             \u001b[1;32mif\u001b[0m \u001b[0mself\u001b[0m\u001b[1;33m.\u001b[0m\u001b[0mcolumns\u001b[0m\u001b[1;33m.\u001b[0m\u001b[0mnlevels\u001b[0m \u001b[1;33m>\u001b[0m \u001b[1;36m1\u001b[0m\u001b[1;33m:\u001b[0m\u001b[1;33m\u001b[0m\u001b[1;33m\u001b[0m\u001b[0m\n\u001b[0;32m   2926\u001b[0m                 \u001b[1;32mreturn\u001b[0m \u001b[0mself\u001b[0m\u001b[1;33m.\u001b[0m\u001b[0m_getitem_multilevel\u001b[0m\u001b[1;33m(\u001b[0m\u001b[0mkey\u001b[0m\u001b[1;33m)\u001b[0m\u001b[1;33m\u001b[0m\u001b[1;33m\u001b[0m\u001b[0m\n\u001b[1;32m-> 2927\u001b[1;33m             \u001b[0mindexer\u001b[0m \u001b[1;33m=\u001b[0m \u001b[0mself\u001b[0m\u001b[1;33m.\u001b[0m\u001b[0mcolumns\u001b[0m\u001b[1;33m.\u001b[0m\u001b[0mget_loc\u001b[0m\u001b[1;33m(\u001b[0m\u001b[0mkey\u001b[0m\u001b[1;33m)\u001b[0m\u001b[1;33m\u001b[0m\u001b[1;33m\u001b[0m\u001b[0m\n\u001b[0m\u001b[0;32m   2928\u001b[0m             \u001b[1;32mif\u001b[0m \u001b[0mis_integer\u001b[0m\u001b[1;33m(\u001b[0m\u001b[0mindexer\u001b[0m\u001b[1;33m)\u001b[0m\u001b[1;33m:\u001b[0m\u001b[1;33m\u001b[0m\u001b[1;33m\u001b[0m\u001b[0m\n\u001b[0;32m   2929\u001b[0m                 \u001b[0mindexer\u001b[0m \u001b[1;33m=\u001b[0m \u001b[1;33m[\u001b[0m\u001b[0mindexer\u001b[0m\u001b[1;33m]\u001b[0m\u001b[1;33m\u001b[0m\u001b[1;33m\u001b[0m\u001b[0m\n",
      "\u001b[1;32mM:\\Python\\lib\\site-packages\\pandas\\core\\indexes\\base.py\u001b[0m in \u001b[0;36mget_loc\u001b[1;34m(self, key, method, tolerance)\u001b[0m\n\u001b[0;32m   2657\u001b[0m                 \u001b[1;32mreturn\u001b[0m \u001b[0mself\u001b[0m\u001b[1;33m.\u001b[0m\u001b[0m_engine\u001b[0m\u001b[1;33m.\u001b[0m\u001b[0mget_loc\u001b[0m\u001b[1;33m(\u001b[0m\u001b[0mkey\u001b[0m\u001b[1;33m)\u001b[0m\u001b[1;33m\u001b[0m\u001b[1;33m\u001b[0m\u001b[0m\n\u001b[0;32m   2658\u001b[0m             \u001b[1;32mexcept\u001b[0m \u001b[0mKeyError\u001b[0m\u001b[1;33m:\u001b[0m\u001b[1;33m\u001b[0m\u001b[1;33m\u001b[0m\u001b[0m\n\u001b[1;32m-> 2659\u001b[1;33m                 \u001b[1;32mreturn\u001b[0m \u001b[0mself\u001b[0m\u001b[1;33m.\u001b[0m\u001b[0m_engine\u001b[0m\u001b[1;33m.\u001b[0m\u001b[0mget_loc\u001b[0m\u001b[1;33m(\u001b[0m\u001b[0mself\u001b[0m\u001b[1;33m.\u001b[0m\u001b[0m_maybe_cast_indexer\u001b[0m\u001b[1;33m(\u001b[0m\u001b[0mkey\u001b[0m\u001b[1;33m)\u001b[0m\u001b[1;33m)\u001b[0m\u001b[1;33m\u001b[0m\u001b[1;33m\u001b[0m\u001b[0m\n\u001b[0m\u001b[0;32m   2660\u001b[0m         \u001b[0mindexer\u001b[0m \u001b[1;33m=\u001b[0m \u001b[0mself\u001b[0m\u001b[1;33m.\u001b[0m\u001b[0mget_indexer\u001b[0m\u001b[1;33m(\u001b[0m\u001b[1;33m[\u001b[0m\u001b[0mkey\u001b[0m\u001b[1;33m]\u001b[0m\u001b[1;33m,\u001b[0m \u001b[0mmethod\u001b[0m\u001b[1;33m=\u001b[0m\u001b[0mmethod\u001b[0m\u001b[1;33m,\u001b[0m \u001b[0mtolerance\u001b[0m\u001b[1;33m=\u001b[0m\u001b[0mtolerance\u001b[0m\u001b[1;33m)\u001b[0m\u001b[1;33m\u001b[0m\u001b[1;33m\u001b[0m\u001b[0m\n\u001b[0;32m   2661\u001b[0m         \u001b[1;32mif\u001b[0m \u001b[0mindexer\u001b[0m\u001b[1;33m.\u001b[0m\u001b[0mndim\u001b[0m \u001b[1;33m>\u001b[0m \u001b[1;36m1\u001b[0m \u001b[1;32mor\u001b[0m \u001b[0mindexer\u001b[0m\u001b[1;33m.\u001b[0m\u001b[0msize\u001b[0m \u001b[1;33m>\u001b[0m \u001b[1;36m1\u001b[0m\u001b[1;33m:\u001b[0m\u001b[1;33m\u001b[0m\u001b[1;33m\u001b[0m\u001b[0m\n",
      "\u001b[1;32mpandas/_libs/index.pyx\u001b[0m in \u001b[0;36mpandas._libs.index.IndexEngine.get_loc\u001b[1;34m()\u001b[0m\n",
      "\u001b[1;32mpandas/_libs/index.pyx\u001b[0m in \u001b[0;36mpandas._libs.index.IndexEngine.get_loc\u001b[1;34m()\u001b[0m\n",
      "\u001b[1;32mpandas/_libs/hashtable_class_helper.pxi\u001b[0m in \u001b[0;36mpandas._libs.hashtable.PyObjectHashTable.get_item\u001b[1;34m()\u001b[0m\n",
      "\u001b[1;32mpandas/_libs/hashtable_class_helper.pxi\u001b[0m in \u001b[0;36mpandas._libs.hashtable.PyObjectHashTable.get_item\u001b[1;34m()\u001b[0m\n",
      "\u001b[1;31mKeyError\u001b[0m: 'Trim'"
     ]
    }
   ],
   "source": [
    "empty_trim_df = df[df['Trim'].isnull()]\n",
    "empty_trim_df['Make'].value_counts().plot(kind='barh',figsize=(10, 8))\n",
    "plt.xlabel(\"Count of Car Makes with Nulls\", labelpad=14)\n",
    "plt.ylabel(\"Car Makes\", labelpad=14)\n",
    "plt.title(\"Count Null values by Car Manufacturer\", y=1.02);"
   ]
  },
  {
   "cell_type": "markdown",
   "metadata": {},
   "source": [
    "> Suzuki cars have a lot of their Trim values missing in the data set.\n",
    "> Will be using categorical imputation for filling missing values by most common occurance by using fancy impute package"
   ]
  },
  {
   "cell_type": "code",
   "execution_count": null,
   "metadata": {},
   "outputs": [],
   "source": [
    "# Take a copy of the data frame so far\n",
    "clean_df = df.copy()\n",
    "\n",
    "#Extract date features and drop the date column\n",
    "clean_df['PurchDate'] = pd.to_datetime(clean_df['PurchDate'])\n",
    "\n",
    "# Adding new features from the Purchase date\n",
    "clean_df['PurchDay'] = clean_df['PurchDate'].apply(lambda x:x.day)\n",
    "clean_df['PurchMon'] = clean_df['PurchDate'].apply(lambda x:x.month)\n",
    "clean_df['PurchYear'] = clean_df['PurchDate'].apply(lambda x:x.year)\n",
    "\n",
    "#Remove columns deemed not necessary since we already extracted its features\n",
    "clean_df = clean_df.drop(['PurchDate'],axis=1)"
   ]
  },
  {
   "cell_type": "code",
   "execution_count": null,
   "metadata": {},
   "outputs": [],
   "source": [
    "print(\"Missing values in the dataset:\")\n",
    "print(clean_df.isnull().sum())\n",
    "print(\"\\n\")\n",
    "print(\"% of missing values:\")\n",
    "print(clean_df.isnull().mean()*100)"
   ]
  },
  {
   "cell_type": "code",
   "execution_count": null,
   "metadata": {},
   "outputs": [],
   "source": [
    "# Analysis of Missing Values using missingno package in Python\n",
    "import missingno as msno\n",
    "\n",
    "#Plot the missing no bar chart\n",
    "msno.bar(clean_df)"
   ]
  },
  {
   "cell_type": "code",
   "execution_count": null,
   "metadata": {},
   "outputs": [],
   "source": [
    "#plot the matrix to show \n",
    "msno.matrix(clean_df)"
   ]
  },
  {
   "cell_type": "code",
   "execution_count": null,
   "metadata": {},
   "outputs": [],
   "source": [
    "# Plot the heat to show any correlation between missing values, for example, wheel type\n",
    "msno.heatmap(clean_df)"
   ]
  },
  {
   "cell_type": "code",
   "execution_count": null,
   "metadata": {},
   "outputs": [],
   "source": [
    "# Plot the Dendrogram for futher analysis for distance between like missing values\n",
    "msno.dendrogram(clean_df)"
   ]
  },
  {
   "cell_type": "markdown",
   "metadata": {},
   "source": [
    "### EDA"
   ]
  },
  {
   "cell_type": "code",
   "execution_count": null,
   "metadata": {},
   "outputs": [],
   "source": [
    "import plotly.figure_factory as ff\n",
    "\n",
    "# Add histogram data\n",
    "x1 = clean_df.loc[clean_df['IsBadBuy'] == 0, 'VehicleAge']\n",
    "x2 = clean_df.loc[clean_df['IsBadBuy'] == 1, 'VehicleAge']\n",
    "hist_data = [x1, x2]\n",
    "group_labels = ['Good Buys', 'Bad Buys']\n",
    "\n",
    "# Create distplot with custom bin_size\n",
    "fig = ff.create_distplot(hist_data, group_labels,\n",
    "                         curve_type='kde', show_hist=False, show_rug=False)\n",
    "#Add Title\n",
    "fig['layout'].update(title='VehicleAge in Percent by Purchase Type Good/Bad')\n",
    "# Plot\n",
    "fig.show()"
   ]
  },
  {
   "cell_type": "code",
   "execution_count": null,
   "metadata": {},
   "outputs": [],
   "source": [
    "x = (clean_df[(clean_df['IsBadBuy'] == 1) & (clean_df['IsOnlineSale'] == 1)].shape[0]/ clean_df[clean_df['IsOnlineSale'] == 1].shape[0])*100\n",
    "print(\"IsOnlineSale = {:.1f}%\".format(x))\n",
    "y = (clean_df[(clean_df['IsBadBuy'] == 1) & (clean_df['IsOnlineSale'] == 0)].shape[0] / clean_df[clean_df['IsOnlineSale'] == 0].shape[0])*100\n",
    "print(\"Not IsOnlinebSale = {:.1f}%\".format(y))"
   ]
  },
  {
   "cell_type": "code",
   "execution_count": null,
   "metadata": {},
   "outputs": [],
   "source": [
    "x = clean_df[clean_df['IsBadBuy'] == 0]['VehicleAge'].mean()\n",
    "print(\"Avg Vehcile Age for Non Bad Buy: {:.1f}\".format(x))\n",
    "y = clean_df[clean_df['IsBadBuy'] == 1]['VehicleAge'].mean()\n",
    "print(\"Avg Vehcile Age for Bad Buy: {:.1f}\".format(y))"
   ]
  },
  {
   "cell_type": "code",
   "execution_count": null,
   "metadata": {},
   "outputs": [],
   "source": [
    "### import plotly.figure_factory as ff\n",
    "import numpy as np\n",
    "##import chart_studio.plotly as py\n",
    "import plotly.figure_factory as ff\n",
    "\n",
    "#token='ZNwWfjtxe8O5DLdMxTUy'\n",
    "#chart_studio.tools.set_credentials_file(username='vidya.sadhanala', api_key=token)\n",
    "# Add histogram data\n",
    "x1 = clean_df.loc[clean_df['IsBadBuy'] == 0, 'VehYear']\n",
    "x2 = clean_df.loc[clean_df['IsBadBuy'] == 1, 'VehYear']\n",
    "# Group data together\n",
    "hist_data = [x1, x2]\n",
    "group_labels = ['Non Bad Buys', 'Bad Buys']\n",
    "# Create distplot with custom bin_size\n",
    "fig = ff.create_distplot(hist_data, group_labels,\n",
    "                         curve_type='kde', show_hist=False, show_rug=False)\n",
    "# Add title\n",
    "fig['layout'].update(title='Vehicle Years in Percent by Purchase Type Good/Bad')\n",
    "# Plot\n",
    "fig.show()"
   ]
  },
  {
   "cell_type": "code",
   "execution_count": null,
   "metadata": {},
   "outputs": [],
   "source": [
    "import plotly.figure_factory as ff\n",
    "x1 = clean_df.loc[clean_df['IsBadBuy'] == 0, 'WarrantyCost']\n",
    "x2 = clean_df.loc[clean_df['IsBadBuy'] == 1, 'WarrantyCost']\n",
    "# Group data together\n",
    "hist_data = [x1, x2]\n",
    "group_labels = ['Non Bad Buys', 'Bad Buys']\n",
    "# Create distplot with custom bin_size\n",
    "fig = ff.create_distplot(hist_data, group_labels,\n",
    "                         curve_type='kde', show_hist=False, show_rug=False)\n",
    "# Add title\n",
    "fig['layout'].update(title='WarrantyCost in Percent by Purchase Type Good/Bad')\n",
    "# Plot\n",
    "fig.show()"
   ]
  },
  {
   "cell_type": "code",
   "execution_count": null,
   "metadata": {},
   "outputs": [],
   "source": [
    "import plotly.express as px\n",
    "data = clean_df\n",
    "fig = px.box(data, x=\"IsBadBuy\", y=\"MMRAcquisitionAuctionAveragePrice\")\n",
    "fig.show()"
   ]
  },
  {
   "cell_type": "code",
   "execution_count": null,
   "metadata": {},
   "outputs": [],
   "source": [
    "fig = px.box(data, x=\"IsBadBuy\", y=\"MMRAcquisitionAuctionCleanPrice\")\n",
    "fig.show()"
   ]
  },
  {
   "cell_type": "code",
   "execution_count": null,
   "metadata": {},
   "outputs": [],
   "source": [
    "fig = px.box(data, x=\"IsBadBuy\", y=\"WarrantyCost\")\n",
    "fig.show()"
   ]
  },
  {
   "cell_type": "code",
   "execution_count": 134,
   "metadata": {},
   "outputs": [
    {
     "data": {
      "image/png": "[encoded data removed]",
      "text/plain": [
       "<Figure size 432x288 with 1 Axes>"
      ]
     },
     "metadata": {
      "needs_background": "light"
     },
     "output_type": "display_data"
    }
   ],
   "source": [
    "df_Make = pd.DataFrame(columns=[\"Make\",\"% of Makes\"])\n",
    "i=0\n",
    "for field in list(clean_df['Make'].unique()):\n",
    "    ratio = clean_df[(clean_df['Make']==field)&(clean_df['IsBadBuy']==1)].shape[0] / clean_df[clean_df['Make']==field].shape[0]\n",
    "    df_Make.loc[i] = (field, ratio*100)\n",
    "    i += 1\n",
    "df_DF1 = df_Make.groupby(by=\"Make\").sum().sort_values(by = ['% of Makes','Make'],ascending=False)\n",
    "df_DF1.plot(kind='bar',title='% of Bad Buy by Make')\n",
    "_ = plt.show()"
   ]
  },
  {
   "cell_type": "code",
   "execution_count": 135,
   "metadata": {},
   "outputs": [
    {
     "data": {
      "image/png": "[encoded data removed]",
      "text/plain": [
       "<Figure size 432x288 with 1 Axes>"
      ]
     },
     "metadata": {
      "needs_background": "light"
     },
     "output_type": "display_data"
    }
   ],
   "source": [
    "df_VNST = pd.DataFrame(columns=[\"VNST\",\"% of VNST\"])\n",
    "i=0\n",
    "for field in list(clean_df['VNST'].unique()):\n",
    "    ratio = clean_df[(clean_df['VNST']==field)&(clean_df['IsBadBuy']==1)].shape[0] / clean_df[clean_df['VNST']==field].shape[0]\n",
    "    df_VNST.loc[i] = (field, ratio*100)\n",
    "    i += 1\n",
    "df_DF4 = df_VNST.groupby(by=\"VNST\").sum().sort_values(by = ['% of VNST','VNST'],ascending=False)\n",
    "df_DF4.plot(kind='bar',title='% of Bad Buy by VNST')\n",
    "_ = plt.show()"
   ]
  },
  {
   "cell_type": "code",
   "execution_count": 136,
   "metadata": {},
   "outputs": [
    {
     "data": {
      "text/plain": [
       "TX    1877\n",
       "FL    1142\n",
       "CA     951\n",
       "NC     799\n",
       "AZ     704\n",
       "CO     604\n",
       "SC     594\n",
       "OK     331\n",
       "GA     273\n",
       "VA     263\n",
       "TN     203\n",
       "MD     165\n",
       "PA     147\n",
       "UT     106\n",
       "NV      90\n",
       "AL      88\n",
       "MO      82\n",
       "IA      73\n",
       "IN      68\n",
       "IL      67\n",
       "OH      67\n",
       "LA      52\n",
       "MS      46\n",
       "NJ      40\n",
       "NM      29\n",
       "WV      29\n",
       "ID      19\n",
       "AR      16\n",
       "KY      15\n",
       "OR      13\n",
       "NH       9\n",
       "WA       8\n",
       "MA       2\n",
       "MN       2\n",
       "NE       1\n",
       "MI       1\n",
       "Name: VNST, dtype: int64"
      ]
     },
     "execution_count": 136,
     "metadata": {},
     "output_type": "execute_result"
    }
   ],
   "source": [
    "df_bad_st = clean_df[clean_df['IsBadBuy'] == 1]\n",
    "df_bad_st['VNST'].value_counts()"
   ]
  },
  {
   "cell_type": "markdown",
   "metadata": {},
   "source": [
    "### Hypothesis Testing"
   ]
  },
  {
   "cell_type": "code",
   "execution_count": 137,
   "metadata": {},
   "outputs": [
    {
     "name": "stdout",
     "output_type": "stream",
     "text": [
      "T Statistic:14.15343276320538\n",
      "\n",
      "\n",
      "p values:2.042953346325851e-45\n",
      "\n",
      "\n",
      "Reject Null Hypothesis and Accept Alternate Hypothesis\n",
      "\n"
     ]
    }
   ],
   "source": [
    "from scipy import stats\n",
    "\n",
    "#H0 : WarrantyCost are no different between BadBuys and Good Buys\n",
    "#HA : WarrantyCosts are differnt between BadBuys and GoodBuys\n",
    "\n",
    "x1 = clean_df.loc[clean_df['IsBadBuy'] == 0, 'WarrantyCost']\n",
    "x2 = clean_df.loc[clean_df['IsBadBuy'] == 1, 'WarrantyCost']\n",
    "\n",
    "t_stat, p_val = stats.ttest_ind(x2, x1)\n",
    "\n",
    "print(\"T Statistic:{}\".format(t_stat))\n",
    "print(\"\\n\")\n",
    "print(\"p values:{}\".format(p_val))\n",
    "print(\"\\n\")\n",
    "if p_val < .05:\n",
    "    print(\"Reject Null Hypothesis and Accept Alternate Hypothesis\\n\")\n",
    "else:\n",
    "    print('Fail to Reject Null Hypothesis')"
   ]
  },
  {
   "cell_type": "code",
   "execution_count": 138,
   "metadata": {},
   "outputs": [],
   "source": [
    "def bootstrap_replicate_1d(data, func):\n",
    "    \"\"\"Generate bootstrap replicate of 1D data.\"\"\"\n",
    "    bs_sample = np.random.choice(data, len(data))\n",
    "    return func(bs_sample)"
   ]
  },
  {
   "cell_type": "code",
   "execution_count": 139,
   "metadata": {},
   "outputs": [],
   "source": [
    "def draw_bs_reps(data, func, size=1):\n",
    "    \"\"\"Draw bootstrap replicates.\"\"\"\n",
    "\n",
    "    # Initialize array of replicates: bs_replicates\n",
    "    bs_replicates = np.empty(size)\n",
    "\n",
    "    # Generate replicates\n",
    "    for i in range(size):\n",
    "        bs_replicates[i] = bootstrap_replicate_1d(data,func)\n",
    "\n",
    "    return bs_replicates"
   ]
  },
  {
   "cell_type": "code",
   "execution_count": 140,
   "metadata": {},
   "outputs": [
    {
     "name": "stdout",
     "output_type": "stream",
     "text": [
      "95% Confidence Interval:[ 80.67142636 110.32956486]\n",
      "\n",
      "Margin of Error:-14.829069249697802\n",
      "\n",
      "difference of means = 95.39837348971719\n",
      "95% confidence interval = [ 80.67142636 110.32956486]\n"
     ]
    }
   ],
   "source": [
    "# Compute the difference of the sample means: mean_diff\n",
    "m1 = clean_df.loc[clean_df['IsBadBuy'] == 0, 'WarrantyCost']\n",
    "m2 = clean_df.loc[clean_df['IsBadBuy'] == 1, 'WarrantyCost']\n",
    "mean_diff = np.mean(m2) - np.mean(m1)\n",
    "\n",
    "# Get bootstrap replicates of means\n",
    "m1_replicates = draw_bs_reps(m1, np.mean, 10000)\n",
    "m2_replicates = draw_bs_reps(m2, np.mean, 10000)\n",
    "\n",
    "# Compute samples of difference of means: bs_diff_replicates\n",
    "diff_replicates = m2_replicates - m1_replicates\n",
    "\n",
    "# Compute 95% confidence interval: conf_int\n",
    "conf_int = np.percentile(diff_replicates,[2.5,97.5])\n",
    "print('95% Confidence Interval:{}\\n'.format(conf_int))\n",
    "\n",
    "# Print the Margin of Error\n",
    "margin_or_err = (conf_int[0] - conf_int[1])/2\n",
    "print('Margin of Error:{}\\n'.format(margin_or_err))\n",
    "\n",
    "# Print the results\n",
    "print('difference of means =', mean_diff)\n",
    "print('95% confidence interval =', conf_int)"
   ]
  },
  {
   "cell_type": "code",
   "execution_count": 141,
   "metadata": {},
   "outputs": [],
   "source": [
    "# Take a copy of the data frame for Categrorical imputation\n",
    "cars_df = clean_df.copy(deep=True)\n",
    "\n",
    "# Drop the columns that are not needed like numerical and categorical values that are fully existing in the data set.\n",
    "cars_df = cars_df.drop(['Auction','VehYear','VehicleAge','Make','Model','VehOdo','BYRNO','VNZIP1','VNST',\n",
    "                        'VehBCost','IsOnlineSale','WarrantyCost','WheelTypeID','IsBadBuy','MMRAcquisitionAuctionAveragePrice',\n",
    "                       'MMRAcquisitionAuctionCleanPrice','MMRAcquisitionRetailAveragePrice','MMRAcquisitonRetailCleanPrice',\n",
    "                        'MMRCurrentAuctionAveragePrice','MMRCurrentAuctionCleanPrice','MMRCurrentRetailAveragePrice',\n",
    "                       'MMRCurrentRetailCleanPrice'],axis=1)"
   ]
  },
  {
   "cell_type": "markdown",
   "metadata": {},
   "source": [
    "### Data pre-processing"
   ]
  },
  {
   "cell_type": "code",
   "execution_count": 142,
   "metadata": {},
   "outputs": [
    {
     "name": "stdout",
     "output_type": "stream",
     "text": [
      "<class 'pandas.core.frame.DataFrame'>\n",
      "RangeIndex: 72983 entries, 0 to 72982\n",
      "Data columns (total 15 columns):\n",
      "RefId                   72983 non-null int64\n",
      "Trim                    70623 non-null object\n",
      "SubModel                72975 non-null object\n",
      "Color                   72975 non-null object\n",
      "Transmission            72974 non-null object\n",
      "WheelType               69809 non-null object\n",
      "Nationality             72978 non-null object\n",
      "Size                    72978 non-null object\n",
      "TopThreeAmericanName    72978 non-null object\n",
      "EngineSize              72983 non-null object\n",
      "VehEngChar              72983 non-null object\n",
      "VehEngCylndr            72983 non-null object\n",
      "PurchDay                72983 non-null int64\n",
      "PurchMon                72983 non-null int64\n",
      "PurchYear               72983 non-null int64\n",
      "dtypes: int64(4), object(11)\n",
      "memory usage: 8.4+ MB\n"
     ]
    }
   ],
   "source": [
    "# Categorical variables selected for imputation\n",
    "cars_df.info()"
   ]
  },
  {
   "cell_type": "code",
   "execution_count": 143,
   "metadata": {},
   "outputs": [],
   "source": [
    "# Create an empty dictionary ordinal_enc_dict\n",
    "ordinal_enc_dict = {}\n",
    "\n",
    "for col_name in cars_df:\n",
    "    # Create Ordinal encoder for col\n",
    "    ordinal_enc_dict[col_name] = OrdinalEncoder()\n",
    "    col = cars_df[col_name]\n",
    "    \n",
    "    # Select non-null values of col\n",
    "    col_not_null = col[col.notnull()]\n",
    "    reshaped_vals = col_not_null.values.reshape(-1, 1)\n",
    "    encoded_vals = ordinal_enc_dict[col_name].fit_transform(reshaped_vals)\n",
    "    \n",
    "    # Store the values to non-null values of the column in users\n",
    "    cars_df.loc[col.notnull(), col_name] = np.squeeze(encoded_vals)"
   ]
  },
  {
   "cell_type": "code",
   "execution_count": 144,
   "metadata": {},
   "outputs": [],
   "source": [
    "#clean_df.info()\n",
    "from fancyimpute import SimpleFill\n",
    "# Create SimpleFill imputer\n",
    "Simple_imp = SimpleFill(\"mean\")\n",
    "\n",
    "# Impute and round the users DataFrame\n",
    "#clean_df.iloc[:, :] = np.round(KNN_imputer.fit_transform(clean_df))\n",
    "cars_df.iloc[:, :] = np.round(Simple_imp.fit_transform(cars_df))\n",
    "\n",
    "\n",
    "# Loop over the column names in users\n",
    "for col_name in cars_df:\n",
    "    \n",
    "    # Reshape the data\n",
    "    reshaped = cars_df[col_name].values.reshape(-1, 1)\n",
    "    \n",
    "    # Perform inverse transform of the ordinally encoded columns\n",
    "    cars_df[col_name] = ordinal_enc_dict[col_name].inverse_transform(reshaped)"
   ]
  },
  {
   "cell_type": "code",
   "execution_count": 145,
   "metadata": {},
   "outputs": [
    {
     "name": "stdout",
     "output_type": "stream",
     "text": [
      "<class 'pandas.core.frame.DataFrame'>\n",
      "Int64Index: 72983 entries, 0 to 72982\n",
      "Data columns (total 33 columns):\n",
      "RefId                                72983 non-null float64\n",
      "IsBadBuy                             72983 non-null float64\n",
      "VehYear                              72983 non-null float64\n",
      "VehicleAge                           72983 non-null float64\n",
      "WheelTypeID                          72983 non-null float64\n",
      "VehOdo                               72983 non-null float64\n",
      "MMRAcquisitionAuctionAveragePrice    72983 non-null float64\n",
      "MMRAcquisitionAuctionCleanPrice      72983 non-null float64\n",
      "MMRAcquisitionRetailAveragePrice     72983 non-null float64\n",
      "MMRAcquisitonRetailCleanPrice        72983 non-null float64\n",
      "MMRCurrentAuctionAveragePrice        72983 non-null float64\n",
      "MMRCurrentAuctionCleanPrice          72983 non-null float64\n",
      "MMRCurrentRetailAveragePrice         72983 non-null float64\n",
      "MMRCurrentRetailCleanPrice           72983 non-null float64\n",
      "BYRNO                                72983 non-null float64\n",
      "VNZIP1                               72983 non-null float64\n",
      "VehBCost                             72983 non-null float64\n",
      "IsOnlineSale                         72983 non-null float64\n",
      "WarrantyCost                         72983 non-null float64\n",
      "Trim                                 72983 non-null object\n",
      "SubModel                             72983 non-null object\n",
      "Color                                72983 non-null object\n",
      "Transmission                         72983 non-null object\n",
      "WheelType                            72983 non-null object\n",
      "Nationality                          72983 non-null object\n",
      "Size                                 72983 non-null object\n",
      "TopThreeAmericanName                 72983 non-null object\n",
      "EngineSize                           72983 non-null object\n",
      "VehEngChar                           72983 non-null object\n",
      "VehEngCylndr                         72983 non-null object\n",
      "PurchDay                             72983 non-null int64\n",
      "PurchMon                             72983 non-null int64\n",
      "PurchYear                            72983 non-null int64\n",
      "dtypes: float64(19), int64(3), object(11)\n",
      "memory usage: 18.9+ MB\n"
     ]
    }
   ],
   "source": [
    "# View to the imputed data frame\n",
    "cars_df.head(5)\n",
    "\n",
    "# merging the numerical and categorical variables data frames\n",
    "final_df = pd.merge(num_df, cars_df, on='RefId')\n",
    "\n",
    "# Variables in the final data frame before addressing class imbalance\n",
    "final_df.info()"
   ]
  },
  {
   "cell_type": "code",
   "execution_count": 146,
   "metadata": {},
   "outputs": [
    {
     "data": {
      "text/html": [
       "<div>\n",
       "<style scoped>\n",
       "    .dataframe tbody tr th:only-of-type {\n",
       "        vertical-align: middle;\n",
       "    }\n",
       "\n",
       "    .dataframe tbody tr th {\n",
       "        vertical-align: top;\n",
       "    }\n",
       "\n",
       "    .dataframe thead th {\n",
       "        text-align: right;\n",
       "    }\n",
       "</style>\n",
       "<table border=\"1\" class=\"dataframe\">\n",
       "  <thead>\n",
       "    <tr style=\"text-align: right;\">\n",
       "      <th></th>\n",
       "      <th>RefId</th>\n",
       "      <th>IsBadBuy</th>\n",
       "      <th>VehYear</th>\n",
       "      <th>VehicleAge</th>\n",
       "      <th>WheelTypeID</th>\n",
       "      <th>VehOdo</th>\n",
       "      <th>MMRAcquisitionAuctionAveragePrice</th>\n",
       "      <th>MMRAcquisitionAuctionCleanPrice</th>\n",
       "      <th>MMRAcquisitionRetailAveragePrice</th>\n",
       "      <th>MMRAcquisitonRetailCleanPrice</th>\n",
       "      <th>...</th>\n",
       "      <th>WheelType</th>\n",
       "      <th>Nationality</th>\n",
       "      <th>Size</th>\n",
       "      <th>TopThreeAmericanName</th>\n",
       "      <th>EngineSize</th>\n",
       "      <th>VehEngChar</th>\n",
       "      <th>VehEngCylndr</th>\n",
       "      <th>PurchDay</th>\n",
       "      <th>PurchMon</th>\n",
       "      <th>PurchYear</th>\n",
       "    </tr>\n",
       "  </thead>\n",
       "  <tbody>\n",
       "    <tr>\n",
       "      <th>0</th>\n",
       "      <td>1.0</td>\n",
       "      <td>0.0</td>\n",
       "      <td>2006.0</td>\n",
       "      <td>3.0</td>\n",
       "      <td>1.0</td>\n",
       "      <td>89046.0</td>\n",
       "      <td>8155.0</td>\n",
       "      <td>9829.0</td>\n",
       "      <td>11636.0</td>\n",
       "      <td>13600.0</td>\n",
       "      <td>...</td>\n",
       "      <td>Alloy</td>\n",
       "      <td>OTHER ASIAN</td>\n",
       "      <td>MEDIUM</td>\n",
       "      <td>OTHER</td>\n",
       "      <td>Missing</td>\n",
       "      <td>Missing</td>\n",
       "      <td>Missing</td>\n",
       "      <td>7</td>\n",
       "      <td>12</td>\n",
       "      <td>2009</td>\n",
       "    </tr>\n",
       "    <tr>\n",
       "      <th>1</th>\n",
       "      <td>2.0</td>\n",
       "      <td>0.0</td>\n",
       "      <td>2004.0</td>\n",
       "      <td>5.0</td>\n",
       "      <td>1.0</td>\n",
       "      <td>93593.0</td>\n",
       "      <td>6854.0</td>\n",
       "      <td>8383.0</td>\n",
       "      <td>10897.0</td>\n",
       "      <td>12572.0</td>\n",
       "      <td>...</td>\n",
       "      <td>Alloy</td>\n",
       "      <td>AMERICAN</td>\n",
       "      <td>LARGE TRUCK</td>\n",
       "      <td>CHRYSLER</td>\n",
       "      <td>Missing</td>\n",
       "      <td>2WD</td>\n",
       "      <td>Missing</td>\n",
       "      <td>7</td>\n",
       "      <td>12</td>\n",
       "      <td>2009</td>\n",
       "    </tr>\n",
       "    <tr>\n",
       "      <th>2</th>\n",
       "      <td>3.0</td>\n",
       "      <td>0.0</td>\n",
       "      <td>2005.0</td>\n",
       "      <td>4.0</td>\n",
       "      <td>2.0</td>\n",
       "      <td>73807.0</td>\n",
       "      <td>3202.0</td>\n",
       "      <td>4760.0</td>\n",
       "      <td>6943.0</td>\n",
       "      <td>8457.0</td>\n",
       "      <td>...</td>\n",
       "      <td>Covers</td>\n",
       "      <td>AMERICAN</td>\n",
       "      <td>MEDIUM</td>\n",
       "      <td>CHRYSLER</td>\n",
       "      <td>Missing</td>\n",
       "      <td>V6</td>\n",
       "      <td>V6</td>\n",
       "      <td>7</td>\n",
       "      <td>12</td>\n",
       "      <td>2009</td>\n",
       "    </tr>\n",
       "    <tr>\n",
       "      <th>3</th>\n",
       "      <td>4.0</td>\n",
       "      <td>0.0</td>\n",
       "      <td>2004.0</td>\n",
       "      <td>5.0</td>\n",
       "      <td>1.0</td>\n",
       "      <td>65617.0</td>\n",
       "      <td>1893.0</td>\n",
       "      <td>2675.0</td>\n",
       "      <td>4658.0</td>\n",
       "      <td>5690.0</td>\n",
       "      <td>...</td>\n",
       "      <td>Alloy</td>\n",
       "      <td>AMERICAN</td>\n",
       "      <td>COMPACT</td>\n",
       "      <td>CHRYSLER</td>\n",
       "      <td>Missing</td>\n",
       "      <td>Missing</td>\n",
       "      <td>Missing</td>\n",
       "      <td>7</td>\n",
       "      <td>12</td>\n",
       "      <td>2009</td>\n",
       "    </tr>\n",
       "    <tr>\n",
       "      <th>4</th>\n",
       "      <td>5.0</td>\n",
       "      <td>0.0</td>\n",
       "      <td>2005.0</td>\n",
       "      <td>4.0</td>\n",
       "      <td>2.0</td>\n",
       "      <td>69367.0</td>\n",
       "      <td>3913.0</td>\n",
       "      <td>5054.0</td>\n",
       "      <td>7723.0</td>\n",
       "      <td>8707.0</td>\n",
       "      <td>...</td>\n",
       "      <td>Covers</td>\n",
       "      <td>AMERICAN</td>\n",
       "      <td>COMPACT</td>\n",
       "      <td>FORD</td>\n",
       "      <td>Missing</td>\n",
       "      <td>Missing</td>\n",
       "      <td>Missing</td>\n",
       "      <td>7</td>\n",
       "      <td>12</td>\n",
       "      <td>2009</td>\n",
       "    </tr>\n",
       "  </tbody>\n",
       "</table>\n",
       "<p>5 rows × 33 columns</p>\n",
       "</div>"
      ],
      "text/plain": [
       "   RefId  IsBadBuy  VehYear  VehicleAge  WheelTypeID   VehOdo  \\\n",
       "0    1.0       0.0   2006.0         3.0          1.0  89046.0   \n",
       "1    2.0       0.0   2004.0         5.0          1.0  93593.0   \n",
       "2    3.0       0.0   2005.0         4.0          2.0  73807.0   \n",
       "3    4.0       0.0   2004.0         5.0          1.0  65617.0   \n",
       "4    5.0       0.0   2005.0         4.0          2.0  69367.0   \n",
       "\n",
       "   MMRAcquisitionAuctionAveragePrice  MMRAcquisitionAuctionCleanPrice  \\\n",
       "0                             8155.0                           9829.0   \n",
       "1                             6854.0                           8383.0   \n",
       "2                             3202.0                           4760.0   \n",
       "3                             1893.0                           2675.0   \n",
       "4                             3913.0                           5054.0   \n",
       "\n",
       "   MMRAcquisitionRetailAveragePrice  MMRAcquisitonRetailCleanPrice  ...  \\\n",
       "0                           11636.0                        13600.0  ...   \n",
       "1                           10897.0                        12572.0  ...   \n",
       "2                            6943.0                         8457.0  ...   \n",
       "3                            4658.0                         5690.0  ...   \n",
       "4                            7723.0                         8707.0  ...   \n",
       "\n",
       "   WheelType  Nationality         Size  TopThreeAmericanName  EngineSize  \\\n",
       "0      Alloy  OTHER ASIAN       MEDIUM                 OTHER     Missing   \n",
       "1      Alloy     AMERICAN  LARGE TRUCK              CHRYSLER     Missing   \n",
       "2     Covers     AMERICAN       MEDIUM              CHRYSLER     Missing   \n",
       "3      Alloy     AMERICAN      COMPACT              CHRYSLER     Missing   \n",
       "4     Covers     AMERICAN      COMPACT                  FORD     Missing   \n",
       "\n",
       "   VehEngChar  VehEngCylndr  PurchDay  PurchMon PurchYear  \n",
       "0     Missing       Missing         7        12      2009  \n",
       "1         2WD       Missing         7        12      2009  \n",
       "2          V6            V6         7        12      2009  \n",
       "3     Missing       Missing         7        12      2009  \n",
       "4     Missing       Missing         7        12      2009  \n",
       "\n",
       "[5 rows x 33 columns]"
      ]
     },
     "execution_count": 146,
     "metadata": {},
     "output_type": "execute_result"
    }
   ],
   "source": [
    "final_df.head()"
   ]
  },
  {
   "cell_type": "code",
   "execution_count": 147,
   "metadata": {},
   "outputs": [],
   "source": [
    "# Since over 95% values are missing in PRIMEUNIT and AUCGUART variables, removing these columns\n",
    "#final_df = final_df.drop(['PRIMEUNIT','AUCGUART'],axis=1)"
   ]
  },
  {
   "cell_type": "code",
   "execution_count": 148,
   "metadata": {},
   "outputs": [
    {
     "data": {
      "image/png": "[encoded data removed]",
      "text/plain": [
       "<Figure size 432x288 with 1 Axes>"
      ]
     },
     "metadata": {
      "needs_background": "light"
     },
     "output_type": "display_data"
    }
   ],
   "source": [
    "# Plot the class imbalance in the data set\n",
    "df_grpd = final_df.groupby(['IsBadBuy']).size().plot.barh(x=\"IsBadBuy\",y=\"Vehicle Counts\")"
   ]
  },
  {
   "cell_type": "code",
   "execution_count": 149,
   "metadata": {},
   "outputs": [
    {
     "data": {
      "text/plain": [
       "1.0    64007\n",
       "0.0    64007\n",
       "Name: IsBadBuy, dtype: int64"
      ]
     },
     "execution_count": 149,
     "metadata": {},
     "output_type": "execute_result"
    }
   ],
   "source": [
    "#Import package\n",
    "from sklearn.utils import resample\n",
    "\n",
    "# Separate majority and minority classes\n",
    "df_majority = final_df[final_df.IsBadBuy==0]\n",
    "df_minority = final_df[final_df.IsBadBuy==1]\n",
    " \n",
    "# Upsample minority class\n",
    "df_minority_upsampled = resample(df_minority, \n",
    "                                 replace=True,     # sample with replacement\n",
    "                                 n_samples=64007,    # to match majority class\n",
    "                                 random_state=1234) # reproducible results\n",
    " \n",
    "# Combine majority class with upsampled minority class\n",
    "df_upsampled = pd.concat([df_majority, df_minority_upsampled])\n",
    " \n",
    "# Display new class counts\n",
    "df_upsampled.IsBadBuy.value_counts()"
   ]
  },
  {
   "cell_type": "code",
   "execution_count": 150,
   "metadata": {},
   "outputs": [
    {
     "data": {
      "image/png": "[encoded data removed]",
      "text/plain": [
       "<Figure size 432x288 with 1 Axes>"
      ]
     },
     "metadata": {
      "needs_background": "light"
     },
     "output_type": "display_data"
    }
   ],
   "source": [
    "df_grpd_upsam = df_upsampled.groupby(['IsBadBuy']).size().plot.barh(x=\"IsBadBuy\",y=\"Vehicle Counts\")"
   ]
  },
  {
   "cell_type": "code",
   "execution_count": 151,
   "metadata": {},
   "outputs": [
    {
     "name": "stdout",
     "output_type": "stream",
     "text": [
      "<class 'pandas.core.frame.DataFrame'>\n",
      "Int64Index: 128014 entries, 0 to 13760\n",
      "Data columns (total 33 columns):\n",
      "RefId                                128014 non-null float64\n",
      "IsBadBuy                             128014 non-null float64\n",
      "VehYear                              128014 non-null float64\n",
      "VehicleAge                           128014 non-null float64\n",
      "WheelTypeID                          128014 non-null float64\n",
      "VehOdo                               128014 non-null float64\n",
      "MMRAcquisitionAuctionAveragePrice    128014 non-null float64\n",
      "MMRAcquisitionAuctionCleanPrice      128014 non-null float64\n",
      "MMRAcquisitionRetailAveragePrice     128014 non-null float64\n",
      "MMRAcquisitonRetailCleanPrice        128014 non-null float64\n",
      "MMRCurrentAuctionAveragePrice        128014 non-null float64\n",
      "MMRCurrentAuctionCleanPrice          128014 non-null float64\n",
      "MMRCurrentRetailAveragePrice         128014 non-null float64\n",
      "MMRCurrentRetailCleanPrice           128014 non-null float64\n",
      "BYRNO                                128014 non-null float64\n",
      "VNZIP1                               128014 non-null float64\n",
      "VehBCost                             128014 non-null float64\n",
      "IsOnlineSale                         128014 non-null float64\n",
      "WarrantyCost                         128014 non-null float64\n",
      "Trim                                 128014 non-null object\n",
      "SubModel                             128014 non-null object\n",
      "Color                                128014 non-null object\n",
      "Transmission                         128014 non-null object\n",
      "WheelType                            128014 non-null object\n",
      "Nationality                          128014 non-null object\n",
      "Size                                 128014 non-null object\n",
      "TopThreeAmericanName                 128014 non-null object\n",
      "EngineSize                           128014 non-null object\n",
      "VehEngChar                           128014 non-null object\n",
      "VehEngCylndr                         128014 non-null object\n",
      "PurchDay                             128014 non-null int64\n",
      "PurchMon                             128014 non-null int64\n",
      "PurchYear                            128014 non-null int64\n",
      "dtypes: float64(19), int64(3), object(11)\n",
      "memory usage: 33.2+ MB\n"
     ]
    }
   ],
   "source": [
    "#Copy upsmaples DataFrame\n",
    "data = df_upsampled.copy(deep=True)\n",
    "\n",
    "data.info()"
   ]
  },
  {
   "cell_type": "markdown",
   "metadata": {},
   "source": [
    "#### Feature Selection\n",
    "#### dropping WheelTypeID since WheelTypeName exists \n",
    "#### dropping ID variable RefID"
   ]
  },
  {
   "cell_type": "code",
   "execution_count": 152,
   "metadata": {},
   "outputs": [
    {
     "name": "stdout",
     "output_type": "stream",
     "text": [
      "<class 'pandas.core.frame.DataFrame'>\n",
      "Int64Index: 128014 entries, 0 to 13760\n",
      "Data columns (total 33 columns):\n",
      "RefId                                128014 non-null float64\n",
      "IsBadBuy                             128014 non-null float64\n",
      "VehYear                              128014 non-null float64\n",
      "VehicleAge                           128014 non-null float64\n",
      "WheelTypeID                          128014 non-null float64\n",
      "VehOdo                               128014 non-null float64\n",
      "MMRAcquisitionAuctionAveragePrice    128014 non-null float64\n",
      "MMRAcquisitionAuctionCleanPrice      128014 non-null float64\n",
      "MMRAcquisitionRetailAveragePrice     128014 non-null float64\n",
      "MMRAcquisitonRetailCleanPrice        128014 non-null float64\n",
      "MMRCurrentAuctionAveragePrice        128014 non-null float64\n",
      "MMRCurrentAuctionCleanPrice          128014 non-null float64\n",
      "MMRCurrentRetailAveragePrice         128014 non-null float64\n",
      "MMRCurrentRetailCleanPrice           128014 non-null float64\n",
      "BYRNO                                128014 non-null float64\n",
      "VNZIP1                               128014 non-null float64\n",
      "VehBCost                             128014 non-null float64\n",
      "IsOnlineSale                         128014 non-null float64\n",
      "WarrantyCost                         128014 non-null float64\n",
      "Trim                                 128014 non-null object\n",
      "SubModel                             128014 non-null object\n",
      "Color                                128014 non-null object\n",
      "Transmission                         128014 non-null object\n",
      "WheelType                            128014 non-null object\n",
      "Nationality                          128014 non-null object\n",
      "Size                                 128014 non-null object\n",
      "TopThreeAmericanName                 128014 non-null object\n",
      "EngineSize                           128014 non-null object\n",
      "VehEngChar                           128014 non-null object\n",
      "VehEngCylndr                         128014 non-null object\n",
      "PurchDay                             128014 non-null int64\n",
      "PurchMon                             128014 non-null int64\n",
      "PurchYear                            128014 non-null int64\n",
      "dtypes: float64(19), int64(3), object(11)\n",
      "memory usage: 33.2+ MB\n"
     ]
    }
   ],
   "source": [
    "df_upsampled.info()"
   ]
  },
  {
   "cell_type": "markdown",
   "metadata": {},
   "source": [
    "### Machine Learning"
   ]
  },
  {
   "cell_type": "code",
   "execution_count": 153,
   "metadata": {},
   "outputs": [],
   "source": [
    "#Copy upsmaples DataFrame\n",
    "data = df_upsampled.copy(deep=True)\n",
    "\n",
    "# Dropping varibles that are not neeeded and also target variables\n",
    "X = data.drop(['RefId','WheelTypeID','IsBadBuy'], axis=1)\n",
    "\n",
    "# target variable\n",
    "y = data.IsBadBuy"
   ]
  },
  {
   "cell_type": "code",
   "execution_count": 154,
   "metadata": {},
   "outputs": [],
   "source": [
    "from sklearn.model_selection import train_test_split\n",
    "from sklearn.tree import DecisionTreeClassifier\n",
    "from sklearn.metrics import accuracy_score\n",
    "\n",
    "# Split data into training and test sets\n",
    "X_train, X_test, y_train, y_test = train_test_split(X, y, \n",
    "                                                    test_size=0.3, \n",
    "                                                    random_state=123, \n",
    "                                                    stratify=y)"
   ]
  },
  {
   "cell_type": "code",
   "execution_count": 155,
   "metadata": {},
   "outputs": [],
   "source": [
    "# Make dummy variables over entire train/test set\n",
    "def make_dummies(train_in, test_in, feature):\n",
    "    from sklearn import preprocessing\n",
    "    le = preprocessing.LabelEncoder()\n",
    "    train_set = list(set(train_in[feature].values))\n",
    "    test_set = list(set(test_in[feature].values))\n",
    "    encoder_set = list(set(train_set + test_set))\n",
    "    le.fit(encoder_set)\n",
    "    new_feature = le.transform(train_in[feature].values)\n",
    "    train_in=train_in.drop(feature, axis=1)\n",
    "    train_in[feature] = new_feature \n",
    "    new_feature = le.transform(test_in[feature].values)\n",
    "    test_in=test_in.drop(feature, axis=1)\n",
    "    test_in[feature] = new_feature\n",
    " \n",
    "    return test_in, train_in"
   ]
  },
  {
   "cell_type": "code",
   "execution_count": 156,
   "metadata": {},
   "outputs": [],
   "source": [
    "def gini(actual, pred):\n",
    "    assert (len(actual) == len(pred))\n",
    "    all = np.asarray(np.c_[actual, pred, np.arange(len(actual))], dtype=np.float)\n",
    "    all = all[np.lexsort((all[:, 2], -1 * all[:, 1]))]\n",
    "    totalLosses = all[:, 0].sum()\n",
    "    giniSum = all[:, 0].cumsum().sum() / totalLosses\n",
    "\n",
    "    giniSum -= (len(actual) + 1) / 2.\n",
    "    return giniSum / len(actual)\n",
    "\n",
    "\n",
    "def gini_normalized(actual, pred):\n",
    "    return gini(actual, pred) / gini(actual, actual)"
   ]
  },
  {
   "cell_type": "code",
   "execution_count": 157,
   "metadata": {},
   "outputs": [],
   "source": [
    "for feature in ['Trim','SubModel', 'Color' ,'Transmission', 'WheelType', 'Nationality',\n",
    "                'Size', 'TopThreeAmericanName', 'EngineSize' ,'VehEngChar' ,'VehEngCylndr']:\n",
    "    X_test, X_train = make_dummies(X_train, X_test, feature)"
   ]
  },
  {
   "cell_type": "code",
   "execution_count": 158,
   "metadata": {},
   "outputs": [
    {
     "name": "stdout",
     "output_type": "stream",
     "text": [
      "Test set accuracy: 0.92\n"
     ]
    }
   ],
   "source": [
    "# # Instantiate a DecisionTreeClassifier 'dt' with a maximum depth of 6\n",
    "dt = DecisionTreeClassifier(criterion ='gini', max_depth=30, random_state=1)\n",
    "\n",
    "# Fit dt to the training set\n",
    "dt.fit(X_train,y_train)\n",
    "\n",
    "# Predict test set labels\n",
    "y_pred = dt.predict(X_test)\n",
    "\n",
    "# Compute test set accuracy  \n",
    "acc = accuracy_score(y_test, y_pred)\n",
    "print(\"Test set accuracy: {:.2f}\".format(acc))"
   ]
  },
  {
   "cell_type": "code",
   "execution_count": 159,
   "metadata": {},
   "outputs": [
    {
     "name": "stdout",
     "output_type": "stream",
     "text": [
      "[[16140  3063]\n",
      " [  113 19089]]\n",
      "              precision    recall  f1-score   support\n",
      "\n",
      "         0.0       0.99      0.84      0.91     19203\n",
      "         1.0       0.86      0.99      0.92     19202\n",
      "\n",
      "    accuracy                           0.92     38405\n",
      "   macro avg       0.93      0.92      0.92     38405\n",
      "weighted avg       0.93      0.92      0.92     38405\n",
      "\n",
      "\n",
      "\n",
      "Gini: 0.209, Max. Gini: 0.209, Normalized Gini: 0.836\n"
     ]
    }
   ],
   "source": [
    "# Import necessary modules\n",
    "from sklearn.metrics import classification_report\n",
    "from sklearn.metrics import confusion_matrix\n",
    "\n",
    "# Generate the confusion matrix and classification report\n",
    "print(confusion_matrix(y_test, y_pred))\n",
    "print(classification_report(y_test, y_pred))\n",
    "print(\"\\n\")\n",
    "\n",
    "gini_predictions = gini(y_test, y_pred)\n",
    "gini_max = gini(y_test, y_pred)\n",
    "ngini= gini_normalized(y_test, y_pred)\n",
    "print('Gini: %.3f, Max. Gini: %.3f, Normalized Gini: %.3f' % (gini_predictions, gini_max, ngini))"
   ]
  },
  {
   "cell_type": "code",
   "execution_count": 160,
   "metadata": {},
   "outputs": [
    {
     "name": "stdout",
     "output_type": "stream",
     "text": [
      "Accuracy: 0.8313240463481317\n",
      "[[14219  4984]\n",
      " [ 1494 17708]]\n",
      "              precision    recall  f1-score   support\n",
      "\n",
      "         0.0       0.90      0.74      0.81     19203\n",
      "         1.0       0.78      0.92      0.85     19202\n",
      "\n",
      "    accuracy                           0.83     38405\n",
      "   macro avg       0.84      0.83      0.83     38405\n",
      "weighted avg       0.84      0.83      0.83     38405\n",
      "\n",
      "F1 Score:0.8453716522652407\n",
      "\n",
      "\n",
      "Gini: 0.166, Max. Gini: 0.166, Normalized Gini: 0.664\n"
     ]
    }
   ],
   "source": [
    "# Import KNeighborsClassifier from sklearn.neighbors\n",
    "from sklearn.neighbors import KNeighborsClassifier \n",
    "\n",
    "# Create a k-NN classifier with 6 neighbors: knn\n",
    "knn = KNeighborsClassifier(n_neighbors=4)\n",
    "\n",
    "# Fit the classifier to the data\n",
    "knn.fit(X_train,y_train)\n",
    "\n",
    "# Predict the labels for the training data X_test\n",
    "y_pred_knn = knn.predict(X_test)\n",
    "\n",
    "# Accuracy Scores\n",
    "print(\"Accuracy:\",metrics.accuracy_score(y_test, y_pred_knn))\n",
    "\n",
    "# Generate the confusion matrix and classification report\n",
    "print(confusion_matrix(y_test, y_pred_knn))\n",
    "print(classification_report(y_test, y_pred_knn))\n",
    "\n",
    "f1_knn = metrics.f1_score(y_pred_knn, y_test)\n",
    "\n",
    "print(\"F1 Score:\"+str(f1_knn))\n",
    "\n",
    "print(\"\\n\")\n",
    "\n",
    "gini_predictions_knn = gini(y_test, y_pred_knn)\n",
    "gini_max_knn = gini(y_test, y_pred_knn)\n",
    "ngini_knn = gini_normalized(y_test, y_pred_knn)\n",
    "print('Gini: %.3f, Max. Gini: %.3f, Normalized Gini: %.3f' % (gini_predictions_knn, gini_max_knn, ngini_knn))"
   ]
  },
  {
   "cell_type": "code",
   "execution_count": 161,
   "metadata": {},
   "outputs": [
    {
     "name": "stdout",
     "output_type": "stream",
     "text": [
      "F1 Score:0.7543595155535453\n",
      "Confusion matrix\n",
      "[[13618  5585]\n",
      " [ 4191 15011]]\n",
      "\n",
      "\n",
      "              precision    recall  f1-score   support\n",
      "\n",
      "         0.0       0.76      0.71      0.74     19203\n",
      "         1.0       0.73      0.78      0.75     19202\n",
      "\n",
      "    accuracy                           0.75     38405\n",
      "   macro avg       0.75      0.75      0.75     38405\n",
      "weighted avg       0.75      0.75      0.75     38405\n",
      "\n",
      "(0.08970094385449691, 'TopThreeAmericanName')\n",
      "(0.06782265662026365, 'VehicleAge')\n",
      "(0.0672365136853862, 'MMRCurrentAuctionAveragePrice')\n",
      "(0.06389520487468726, 'VehBCost')\n",
      "(0.059180690759228875, 'VehYear')\n",
      "(0.0565215944954232, 'MMRAcquisitionAuctionAveragePrice')\n",
      "(0.05202170156386493, 'VehOdo')\n",
      "(0.050838155554255963, 'MMRCurrentAuctionCleanPrice')\n",
      "(0.0496652694573238, 'MMRCurrentRetailAveragePrice')\n",
      "(0.04799672813035804, 'MMRAcquisitionAuctionCleanPrice')\n",
      "(0.04628151171607402, 'BYRNO')\n",
      "(0.04477853223602451, 'MMRCurrentRetailCleanPrice')\n",
      "(0.03722981273099071, 'MMRAcquisitionRetailAveragePrice')\n",
      "(0.03594716281369719, 'MMRAcquisitonRetailCleanPrice')\n",
      "(0.03262272684069231, 'WarrantyCost')\n",
      "(0.030571699186417566, 'VNZIP1')\n",
      "(0.029037424321116393, 'WheelType')\n",
      "(0.026120173627158776, 'Transmission')\n",
      "(0.01967459924075451, 'SubModel')\n",
      "(0.01829318030641655, 'Trim')\n",
      "(0.013121102711106749, 'PurchMon')\n",
      "(0.011318175221325775, 'VehEngChar')\n",
      "(0.010286025479275675, 'PurchDay')\n",
      "(0.009338799601614772, 'Nationality')\n",
      "(0.008079045290925313, 'VehEngCylndr')\n",
      "(0.007464785614405996, 'PurchYear')\n",
      "(0.0068177536739072835, 'Color')\n",
      "(0.0038409287028258114, 'EngineSize')\n",
      "(0.0028353564652296376, 'Size')\n",
      "(0.0014617452247516678, 'IsOnlineSale')\n",
      "\n",
      "\n",
      "Gini: 0.123, Max. Gini: 0.123, Normalized Gini: 0.490\n"
     ]
    }
   ],
   "source": [
    "from sklearn import metrics\n",
    "from sklearn.ensemble import RandomForestClassifier\n",
    "\n",
    "RF = RandomForestClassifier(n_estimators = 50, criterion = 'entropy', min_samples_split = 285)\n",
    "\n",
    "RF.fit(X_train, y_train)\n",
    "\n",
    "y_pred_rf = RF.predict(X_test)\n",
    "\n",
    "f1_rf = metrics.f1_score(y_pred_rf, y_test)\n",
    "\n",
    "print(\"F1 Score:\"+str(f1_rf))\n",
    "\n",
    "\n",
    "print('Confusion matrix')\n",
    "print(confusion_matrix(y_test, y_pred_rf))\n",
    "print('\\n')\n",
    "\n",
    "metrics.classification_report(y_test, y_pred_rf)\n",
    "\n",
    "print(metrics.classification_report(y_test, y_pred_rf))\n",
    "\n",
    "importance = zip(RF.feature_importances_, X)\n",
    "\n",
    "for rank in sorted(importance, key = lambda x: x[0], reverse = True):\n",
    "    print(rank)\n",
    "    \n",
    "print(\"\\n\")\n",
    "\n",
    "gini_predictions_rf = gini(y_test, y_pred_rf)\n",
    "gini_max_rf = gini(y_test, y_pred_rf)\n",
    "ngini_rf = gini_normalized(y_test, y_pred_rf)\n",
    "print('Gini: %.3f, Max. Gini: %.3f, Normalized Gini: %.3f' % (gini_predictions_rf, gini_max_rf, ngini_rf))"
   ]
  },
  {
   "cell_type": "code",
   "execution_count": 162,
   "metadata": {},
   "outputs": [
    {
     "name": "stdout",
     "output_type": "stream",
     "text": [
      "accuracy: 0.623018\n",
      "F1 Score:0.6403874813710879\n",
      "Confusion matrix\n",
      "[[11036  8167]\n",
      " [ 6311 12891]]\n",
      "\n",
      "\n",
      "              precision    recall  f1-score   support\n",
      "\n",
      "         0.0       0.64      0.57      0.60     19203\n",
      "         1.0       0.61      0.67      0.64     19202\n",
      "\n",
      "    accuracy                           0.62     38405\n",
      "   macro avg       0.62      0.62      0.62     38405\n",
      "weighted avg       0.62      0.62      0.62     38405\n",
      "\n",
      "(0.42494175, 'VehicleAge')\n",
      "(0.19432454, 'VehYear')\n",
      "(0.11668855, 'TopThreeAmericanName')\n",
      "(0.08220072, 'VehBCost')\n",
      "(0.060941577, 'MMRAcquisitionAuctionCleanPrice')\n",
      "(0.05697047, 'MMRAcquisitionAuctionAveragePrice')\n",
      "(0.044660557, 'BYRNO')\n",
      "(0.019271856, 'WarrantyCost')\n",
      "(0.0, 'VehOdo')\n",
      "(0.0, 'MMRAcquisitionRetailAveragePrice')\n",
      "(0.0, 'MMRAcquisitonRetailCleanPrice')\n",
      "(0.0, 'MMRCurrentAuctionAveragePrice')\n",
      "(0.0, 'MMRCurrentAuctionCleanPrice')\n",
      "(0.0, 'MMRCurrentRetailAveragePrice')\n",
      "(0.0, 'MMRCurrentRetailCleanPrice')\n",
      "(0.0, 'VNZIP1')\n",
      "(0.0, 'IsOnlineSale')\n",
      "(0.0, 'Trim')\n",
      "(0.0, 'SubModel')\n",
      "(0.0, 'Color')\n",
      "(0.0, 'Transmission')\n",
      "(0.0, 'WheelType')\n",
      "(0.0, 'Nationality')\n",
      "(0.0, 'Size')\n",
      "(0.0, 'EngineSize')\n",
      "(0.0, 'VehEngChar')\n",
      "(0.0, 'VehEngCylndr')\n",
      "(0.0, 'PurchDay')\n",
      "(0.0, 'PurchMon')\n",
      "(0.0, 'PurchYear')\n",
      "\n",
      "\n",
      "Gini: 0.062, Max. Gini: 0.062, Normalized Gini: 0.247\n"
     ]
    }
   ],
   "source": [
    "import xgboost as xgb\n",
    "from matplotlib import pyplot\n",
    "\n",
    "# instansitate xbg classifier\n",
    "xg_cl = xgb.XGBRFClassifier(objective='binary:logistic', n_estimators=10,seed=123)\n",
    "\n",
    "# Fit on train\n",
    "xg_cl.fit(X_train, y_train)\n",
    "\n",
    "#Predict on Test\n",
    "y_pred_xgb = xg_cl.predict(X_test)\n",
    "\n",
    "#Accuracy Scores\n",
    "accuracy_xgb = float(np.sum(y_pred_xgb==y_test))/y_test.shape[0]\n",
    "\n",
    "print('accuracy: %f' % (accuracy_xgb))\n",
    "\n",
    "f1_xgb = metrics.f1_score(y_pred_xgb, y_test)\n",
    "\n",
    "print(\"F1 Score:\"+str(f1_xgb))\n",
    "\n",
    "print('Confusion matrix')\n",
    "print(confusion_matrix(y_test, y_pred_xgb))\n",
    "print('\\n')\n",
    "metrics.classification_report(y_test, y_pred_xgb)\n",
    "\n",
    "print(metrics.classification_report(y_test, y_pred_xgb))\n",
    "\n",
    "importance = zip(xg_cl.feature_importances_, X)\n",
    "\n",
    "for rank in sorted(importance, key = lambda x: x[0], reverse = True):\n",
    "    print(rank)\n",
    "\n",
    "print(\"\\n\")\n",
    "\n",
    "gini_predictions_xgb = gini(y_test, y_pred_xgb)\n",
    "gini_max_xgb = gini(y_test, y_pred_xgb)\n",
    "ngini_xgb = gini_normalized(y_test, y_pred_xgb)\n",
    "print('Gini: %.3f, Max. Gini: %.3f, Normalized Gini: %.3f' % (gini_predictions_xgb, gini_max_xgb, ngini_xgb))"
   ]
  },
  {
   "cell_type": "markdown",
   "metadata": {},
   "source": [
    "### Conclusion"
   ]
  },
  {
   "cell_type": "markdown",
   "metadata": {},
   "source": [
    "#### Based on the different machine learning models applied so far for classifiying good and bar car buys at the auction, DecisionTreeClassifier seems be the most performant model of all based on the sensitivity of all the models compared."
   ]
  },
  {
   "cell_type": "code",
   "execution_count": null,
   "metadata": {},
   "outputs": [],
   "source": []
  }
 ],
 "metadata": {
  "kernelspec": {
   "display_name": "Python 3",
   "language": "python",
   "name": "python3"
  },
  "language_info": {
   "codemirror_mode": {
    "name": "ipython",
    "version": 3
   },
   "file_extension": ".py",
   "mimetype": "text/x-python",
   "name": "python",
   "nbconvert_exporter": "python",
   "pygments_lexer": "ipython3",
   "version": "3.7.3"
  }
 },
 "nbformat": 4,
 "nbformat_minor": 2
}
